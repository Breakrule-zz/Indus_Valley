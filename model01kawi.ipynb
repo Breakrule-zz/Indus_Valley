{
  "nbformat": 4,
  "nbformat_minor": 0,
  "metadata": {
    "colab": {
      "name": "model01kawi.ipynb",
      "provenance": [],
      "collapsed_sections": []
    },
    "kernelspec": {
      "name": "python3",
      "display_name": "Python 3"
    }
  },
  "cells": [
    {
      "cell_type": "code",
      "metadata": {
        "id": "c4KINaZ7nSWq",
        "colab": {
          "base_uri": "https://localhost:8080/"
        },
        "outputId": "b0431d62-b317-4b5f-ec78-9161496446b3"
      },
      "source": [
        "from google.colab import drive\n",
        "drive.mount('/content/drive')"
      ],
      "execution_count": null,
      "outputs": [
        {
          "output_type": "stream",
          "text": [
            "Mounted at /content/drive\n"
          ],
          "name": "stdout"
        }
      ]
    },
    {
      "cell_type": "code",
      "metadata": {
        "id": "xj9CzzRn6pLV",
        "colab": {
          "base_uri": "https://localhost:8080/"
        },
        "outputId": "dd1e32d8-0b98-4c73-ffcb-c59aa91c57ba"
      },
      "source": [
        "!pip install Augmentor"
      ],
      "execution_count": null,
      "outputs": [
        {
          "output_type": "stream",
          "text": [
            "Collecting Augmentor\n",
            "  Downloading https://files.pythonhosted.org/packages/cb/79/861f38d5830cff631e30e33b127076bfef8ac98171e51daa06df0118c75f/Augmentor-0.2.8-py2.py3-none-any.whl\n",
            "Requirement already satisfied: future>=0.16.0 in /usr/local/lib/python3.7/dist-packages (from Augmentor) (0.16.0)\n",
            "Requirement already satisfied: numpy>=1.11.0 in /usr/local/lib/python3.7/dist-packages (from Augmentor) (1.19.5)\n",
            "Requirement already satisfied: Pillow>=5.2.0 in /usr/local/lib/python3.7/dist-packages (from Augmentor) (7.0.0)\n",
            "Requirement already satisfied: tqdm>=4.9.0 in /usr/local/lib/python3.7/dist-packages (from Augmentor) (4.41.1)\n",
            "Installing collected packages: Augmentor\n",
            "Successfully installed Augmentor-0.2.8\n"
          ],
          "name": "stdout"
        }
      ]
    },
    {
      "cell_type": "code",
      "metadata": {
        "id": "IsL7DW67mqDH",
        "colab": {
          "base_uri": "https://localhost:8080/"
        },
        "outputId": "e1a404a0-ba9b-4152-f671-3367f025a8bd"
      },
      "source": [
        "!cp \"/content/drive/My Drive/ta/kawi.zip\" .\n",
        "!unzip kawi.zip"
      ],
      "execution_count": null,
      "outputs": [
        {
          "output_type": "stream",
          "text": [
            "Archive:  kawi.zip\n",
            "   creating: dataset/\n",
            "   creating: dataset/test/\n",
            "   creating: dataset/test/0/\n",
            "   creating: dataset/test/1/\n",
            "   creating: dataset/test/2/\n",
            "   creating: dataset/test/3/\n",
            "   creating: dataset/test/4/\n",
            "   creating: dataset/test/5/\n",
            "   creating: dataset/test/6/\n",
            "   creating: dataset/test/7/\n",
            "   creating: dataset/test/8/\n",
            "   creating: dataset/test/9/\n",
            "   creating: dataset/test/a/\n",
            "   creating: dataset/test/a1/\n",
            "   creating: dataset/test/ai/\n",
            "   creating: dataset/test/au/\n",
            "   creating: dataset/test/ba/\n",
            "   creating: dataset/test/bha/\n",
            "   creating: dataset/test/ca/\n",
            "   creating: dataset/test/cha/\n",
            "   creating: dataset/test/da/\n",
            "   creating: dataset/test/da2/\n",
            "   creating: dataset/test/dha/\n",
            "   creating: dataset/test/dot/\n",
            "   creating: dataset/test/e/\n",
            "   creating: dataset/test/e1/\n",
            "   creating: dataset/test/eop/\n",
            "   creating: dataset/test/eos/\n",
            "   creating: dataset/test/ga/\n",
            "   creating: dataset/test/gha/\n",
            "   creating: dataset/test/ha/\n",
            "   creating: dataset/test/i/\n",
            "   creating: dataset/test/i1/\n",
            "   creating: dataset/test/ja/\n",
            "   creating: dataset/test/jha/\n",
            "   creating: dataset/test/ka/\n",
            "   creating: dataset/test/kha/\n",
            "   creating: dataset/test/l/\n",
            "   creating: dataset/test/l1/\n",
            "   creating: dataset/test/la/\n",
            "   creating: dataset/test/ma/\n",
            "   creating: dataset/test/na/\n",
            "   creating: dataset/test/na2/\n",
            "   creating: dataset/test/na3/\n",
            "   creating: dataset/test/na4/\n",
            "   creating: dataset/test/o/\n",
            "   creating: dataset/test/o1/\n",
            "   creating: dataset/test/opening/\n",
            "   creating: dataset/test/pa/\n",
            "   creating: dataset/test/pha/\n",
            "   creating: dataset/test/r/\n",
            "   creating: dataset/test/r1/\n",
            "   creating: dataset/test/ra/\n",
            "   creating: dataset/test/sa/\n",
            "   creating: dataset/test/sa1/\n",
            "   creating: dataset/test/sa2/\n",
            "   creating: dataset/test/ta/\n",
            "   creating: dataset/test/ta2/\n",
            "   creating: dataset/test/tha2/\n",
            "   creating: dataset/test/u/\n",
            "   creating: dataset/test/u1/\n",
            "   creating: dataset/test/virama/\n",
            "   creating: dataset/test/wa/\n",
            "   creating: dataset/test/ya/\n",
            "   creating: dataset/train/\n",
            "   creating: dataset/train/0/\n",
            "  inflating: dataset/train/0/0.jpg   \n",
            "   creating: dataset/train/1/\n",
            "  inflating: dataset/train/1/1.jpg   \n",
            "   creating: dataset/train/2/\n",
            "  inflating: dataset/train/2/2.jpg   \n",
            "   creating: dataset/train/3/\n",
            "  inflating: dataset/train/3/3.jpg   \n",
            "   creating: dataset/train/4/\n",
            "  inflating: dataset/train/4/4.jpg   \n",
            "   creating: dataset/train/5/\n",
            "  inflating: dataset/train/5/5.jpg   \n",
            "   creating: dataset/train/6/\n",
            "  inflating: dataset/train/6/6.jpg   \n",
            "   creating: dataset/train/7/\n",
            "  inflating: dataset/train/7/7.jpg   \n",
            "   creating: dataset/train/8/\n",
            "  inflating: dataset/train/8/8.jpg   \n",
            "   creating: dataset/train/9/\n",
            "  inflating: dataset/train/9/9.jpg   \n",
            "   creating: dataset/train/a/\n",
            "  inflating: dataset/train/a/a.jpg   \n",
            "   creating: dataset/train/a1/\n",
            "  inflating: dataset/train/a1/a1.jpg  \n",
            "   creating: dataset/train/ai/\n",
            "  inflating: dataset/train/ai/ai.jpg  \n",
            "   creating: dataset/train/au/\n",
            "  inflating: dataset/train/au/au.jpg  \n",
            "   creating: dataset/train/ba/\n",
            "  inflating: dataset/train/ba/ba.jpg  \n",
            "   creating: dataset/train/bha/\n",
            "  inflating: dataset/train/bha/bha.jpg  \n",
            "   creating: dataset/train/ca/\n",
            "  inflating: dataset/train/ca/ca.jpg  \n",
            "   creating: dataset/train/cha/\n",
            "  inflating: dataset/train/cha/cha.jpg  \n",
            "   creating: dataset/train/da/\n",
            "  inflating: dataset/train/da/da.jpg  \n",
            "   creating: dataset/train/da2/\n",
            "  inflating: dataset/train/da2/da2.jpg  \n",
            "   creating: dataset/train/dha/\n",
            "  inflating: dataset/train/dha/dha.jpg  \n",
            "   creating: dataset/train/dot/\n",
            "  inflating: dataset/train/dot/dot.jpg  \n",
            "   creating: dataset/train/e/\n",
            "  inflating: dataset/train/e/e.jpg   \n",
            "   creating: dataset/train/e1/\n",
            "  inflating: dataset/train/e1/e1.jpg  \n",
            "   creating: dataset/train/eop/\n",
            "  inflating: dataset/train/eop/eop.jpg  \n",
            "   creating: dataset/train/eos/\n",
            "  inflating: dataset/train/eos/eos.jpg  \n",
            "   creating: dataset/train/ga/\n",
            "  inflating: dataset/train/ga/ga.jpg  \n",
            "   creating: dataset/train/gha/\n",
            "  inflating: dataset/train/gha/gha.jpg  \n",
            "   creating: dataset/train/ha/\n",
            "  inflating: dataset/train/ha/ha.jpg  \n",
            "   creating: dataset/train/i/\n",
            "  inflating: dataset/train/i/i.jpg   \n",
            "   creating: dataset/train/i1/\n",
            "  inflating: dataset/train/i1/i1.jpg  \n",
            "   creating: dataset/train/ja/\n",
            "  inflating: dataset/train/ja/ja.jpg  \n",
            "   creating: dataset/train/jha/\n",
            "  inflating: dataset/train/jha/jha.jpg  \n",
            "   creating: dataset/train/ka/\n",
            "  inflating: dataset/train/ka/ka.jpg  \n",
            "   creating: dataset/train/kha/\n",
            "  inflating: dataset/train/kha/kha.jpg  \n",
            "   creating: dataset/train/l/\n",
            "  inflating: dataset/train/l/l.jpg   \n",
            "   creating: dataset/train/l1/\n",
            "  inflating: dataset/train/l1/l1.jpg  \n",
            "   creating: dataset/train/la/\n",
            "  inflating: dataset/train/la/la.jpg  \n",
            "   creating: dataset/train/ma/\n",
            "  inflating: dataset/train/ma/ma.jpg  \n",
            "   creating: dataset/train/na/\n",
            "  inflating: dataset/train/na/na.jpg  \n",
            "   creating: dataset/train/na2/\n",
            "  inflating: dataset/train/na2/na2.jpg  \n",
            "   creating: dataset/train/na3/\n",
            "  inflating: dataset/train/na3/na3.jpg  \n",
            "   creating: dataset/train/na4/\n",
            "  inflating: dataset/train/na4/na4.jpg  \n",
            "   creating: dataset/train/o/\n",
            "  inflating: dataset/train/o/o.jpg   \n",
            "   creating: dataset/train/o1/\n",
            "  inflating: dataset/train/o1/o1.jpg  \n",
            "   creating: dataset/train/opening/\n",
            "  inflating: dataset/train/opening/opening.jpg  \n",
            "   creating: dataset/train/pa/\n",
            "  inflating: dataset/train/pa/pa.jpg  \n",
            "   creating: dataset/train/pha/\n",
            "  inflating: dataset/train/pha/pha.jpg  \n",
            "   creating: dataset/train/r/\n",
            "  inflating: dataset/train/r/r.jpg   \n",
            "   creating: dataset/train/r1/\n",
            "  inflating: dataset/train/r1/r1.jpg  \n",
            "   creating: dataset/train/ra/\n",
            "  inflating: dataset/train/ra/ra.jpg  \n",
            "   creating: dataset/train/sa/\n",
            "  inflating: dataset/train/sa/sa.jpg  \n",
            "   creating: dataset/train/sa1/\n",
            "  inflating: dataset/train/sa1/sa1.jpg  \n",
            "   creating: dataset/train/sa2/\n",
            "  inflating: dataset/train/sa2/sa2.jpg  \n",
            "   creating: dataset/train/ta/\n",
            "  inflating: dataset/train/ta/ta.jpg  \n",
            "   creating: dataset/train/ta2/\n",
            "  inflating: dataset/train/ta2/ta2.jpg  \n",
            "   creating: dataset/train/tha2/\n",
            "  inflating: dataset/train/tha2/tha2.jpg  \n",
            "   creating: dataset/train/u/\n",
            "  inflating: dataset/train/u/u.jpg   \n",
            "   creating: dataset/train/u1/\n",
            "  inflating: dataset/train/u1/u1.jpg  \n",
            "   creating: dataset/train/virama/\n",
            "  inflating: dataset/train/virama/virama.jpg  \n",
            "   creating: dataset/train/wa/\n",
            "  inflating: dataset/train/wa/wa.jpg  \n",
            "   creating: dataset/train/ya/\n",
            "  inflating: dataset/train/ya/ya.jpg  \n"
          ],
          "name": "stdout"
        }
      ]
    },
    {
      "cell_type": "markdown",
      "metadata": {
        "id": "48EmZEkj9MIB"
      },
      "source": [
        "## Persiapan Dataset"
      ]
    },
    {
      "cell_type": "code",
      "metadata": {
        "id": "3l5AlU3w5m45"
      },
      "source": [
        "!cp dataset/train/0/0.jpg /content/dataset/test/0/\n",
        "!cp dataset/train/1/1.jpg /content/dataset/test/1/\n",
        "!cp dataset/train/2/2.jpg /content/dataset/test/2/\n",
        "!cp dataset/train/3/3.jpg /content/dataset/test/3/\n",
        "!cp dataset/train/4/4.jpg /content/dataset/test/4/\n",
        "!cp dataset/train/5/5.jpg /content/dataset/test/5/\n",
        "!cp dataset/train/6/6.jpg /content/dataset/test/6/\n",
        "!cp dataset/train/7/7.jpg /content/dataset/test/7/\n",
        "!cp dataset/train/8/8.jpg /content/dataset/test/8/\n",
        "!cp dataset/train/9/9.jpg /content/dataset/test/9/\n",
        "!cp dataset/train/a/a.jpg /content/dataset/test/a/\n",
        "!cp dataset/train/a1/a1.jpg /content/dataset/test/a1/\n",
        "!cp dataset/train/ai/ai.jpg /content/dataset/test/ai/\n",
        "!cp dataset/train/au/au.jpg /content/dataset/test/au/\n",
        "!cp dataset/train/ba/ba.jpg /content/dataset/test/ba/\n",
        "!cp dataset/train/bha/bha.jpg /content/dataset/test/bha/\n",
        "!cp dataset/train/ca/ca.jpg /content/dataset/test/ca/\n",
        "!cp dataset/train/cha/cha.jpg /content/dataset/test/cha/\n",
        "!cp dataset/train/da/da.jpg /content/dataset/test/da/\n",
        "!cp dataset/train/da2/da2.jpg /content/dataset/test/da2/\n",
        "!cp dataset/train/dha/dha.jpg /content/dataset/test/dha/\n",
        "!cp dataset/train/dot/dot.jpg /content/dataset/test/dot/\n",
        "!cp dataset/train/e/e.jpg /content/dataset/test/e/\n",
        "!cp dataset/train/e1/e1.jpg /content/dataset/test/e1/\n",
        "!cp dataset/train/eop/eop.jpg /content/dataset/test/eop/\n",
        "!cp dataset/train/eos/eos.jpg /content/dataset/test/eos/\n",
        "!cp dataset/train/ga/ga.jpg /content/dataset/test/ga/\n",
        "!cp dataset/train/gha/gha.jpg /content/dataset/test/gha/\n",
        "!cp dataset/train/ha/ha.jpg /content/dataset/test/ha/\n",
        "!cp dataset/train/i/i.jpg /content/dataset/test/i/\n",
        "!cp dataset/train/i1/i1.jpg /content/dataset/test/i1/\n",
        "!cp dataset/train/ja/ja.jpg /content/dataset/test/ja/\n",
        "!cp dataset/train/jha/jha.jpg /content/dataset/test/jha/\n",
        "!cp dataset/train/ka/ka.jpg /content/dataset/test/ka/\n",
        "!cp dataset/train/kha/kha.jpg /content/dataset/test/kha/\n",
        "!cp dataset/train/l/l.jpg /content/dataset/test/l/\n",
        "!cp dataset/train/l1/l1.jpg /content/dataset/test/l1/\n",
        "!cp dataset/train/la/la.jpg /content/dataset/test/la/\n",
        "!cp dataset/train/ma/ma.jpg /content/dataset/test/ma/\n",
        "!cp dataset/train/na/na.jpg /content/dataset/test/na/\n",
        "!cp dataset/train/na2/na2.jpg /content/dataset/test/na2/\n",
        "!cp dataset/train/na3/na3.jpg /content/dataset/test/na3/\n",
        "!cp dataset/train/na4/na4.jpg /content/dataset/test/na4/\n",
        "!cp dataset/train/o/o.jpg /content/dataset/test/o/\n",
        "!cp dataset/train/o1/o1.jpg /content/dataset/test/o1/\n",
        "!cp dataset/train/opening/opening.jpg /content/dataset/test/opening/\n",
        "!cp dataset/train/pa/pa.jpg /content/dataset/test/pa/\n",
        "!cp dataset/train/pha/pha.jpg /content/dataset/test/pha/\n",
        "!cp dataset/train/r/r.jpg /content/dataset/test/r/\n",
        "!cp dataset/train/r1/r1.jpg /content/dataset/test/r1/\n",
        "!cp dataset/train/ra/ra.jpg /content/dataset/test/ra/\n",
        "!cp dataset/train/sa/sa.jpg /content/dataset/test/sa/\n",
        "!cp dataset/train/sa1/sa1.jpg /content/dataset/test/sa1/\n",
        "!cp dataset/train/sa2/sa2.jpg /content/dataset/test/sa2/\n",
        "!cp dataset/train/ta/ta.jpg /content/dataset/test/ta/\n",
        "!cp dataset/train/ta2/ta2.jpg /content/dataset/test/ta2/\n",
        "!cp dataset/train/tha2/tha2.jpg /content/dataset/test/tha2/\n",
        "!cp dataset/train/u/u.jpg /content/dataset/test/u/\n",
        "!cp dataset/train/u1/u1.jpg /content/dataset/test/u1/\n",
        "!cp dataset/train/virama/virama.jpg /content/dataset/test/virama/\n",
        "!cp dataset/train/wa/wa.jpg /content/dataset/test/wa/\n",
        "!cp dataset/train/ya/ya.jpg /content/dataset/test/ya/\n",
        "\n"
      ],
      "execution_count": null,
      "outputs": []
    },
    {
      "cell_type": "code",
      "metadata": {
        "id": "FedPLrJg5Fn8",
        "colab": {
          "base_uri": "https://localhost:8080/"
        },
        "outputId": "cd2c7622-1449-49a1-c4b5-59a3e31b4c71"
      },
      "source": [
        "import Augmentor\n",
        "import os\n",
        "\n",
        "def perbanyak_(ini, sebanyak_ini):\n",
        "  source_dir = ini\n",
        "  output_dir = \".\"\n",
        "  p = Augmentor.Pipeline(source_directory=source_dir, output_directory=output_dir)\n",
        "  p.random_distortion(probability=1, grid_width=4, grid_height=4, magnitude=1)\n",
        "  p.rotate(probability=0.7, max_left_rotation=13, max_right_rotation=13)\n",
        "  p.zoom_random(probability=0.5, percentage_area=0.9)\n",
        "  p.crop_random(probability=0.6, percentage_area=0.9)\n",
        "  p.resize(probability=1.0, width=64, height=64)\n",
        "\n",
        "  p.sample(sebanyak_ini)\n",
        "\n",
        "perbanyak_(\"dataset/test/0/\", 30)\n",
        "perbanyak_(\"dataset/test/1/\", 30)\n",
        "perbanyak_(\"dataset/test/2/\", 30)\n",
        "perbanyak_(\"dataset/test/3/\", 30)\n",
        "perbanyak_(\"dataset/test/4/\", 30)\n",
        "perbanyak_(\"dataset/test/5/\", 30)\n",
        "perbanyak_(\"dataset/test/6/\", 30)\n",
        "perbanyak_(\"dataset/test/7/\", 30)\n",
        "perbanyak_(\"dataset/test/8/\", 30)\n",
        "perbanyak_(\"dataset/test/9/\", 30)\n",
        "perbanyak_(\"dataset/test/a/\", 30)\n",
        "perbanyak_(\"dataset/test/a1/\", 30)\n",
        "perbanyak_(\"dataset/test/ai/\", 30)\n",
        "perbanyak_(\"dataset/test/au/\", 30)\n",
        "perbanyak_(\"dataset/test/ba/\", 30)\n",
        "perbanyak_(\"dataset/test/bha/\", 30)\n",
        "perbanyak_(\"dataset/test/ca/\", 30)\n",
        "perbanyak_(\"dataset/test/cha/\", 30)\n",
        "perbanyak_(\"dataset/test/da/\", 30)\n",
        "perbanyak_(\"dataset/test/da2/\", 30)\n",
        "perbanyak_(\"dataset/test/dha/\", 30)\n",
        "perbanyak_(\"dataset/test/dot/\", 30)\n",
        "perbanyak_(\"dataset/test/e/\", 30)\n",
        "perbanyak_(\"dataset/test/e1/\", 30)\n",
        "perbanyak_(\"dataset/test/eop/\", 30)\n",
        "perbanyak_(\"dataset/test/eos/\", 30)\n",
        "perbanyak_(\"dataset/test/ga/\", 30)\n",
        "perbanyak_(\"dataset/test/gha/\", 30)\n",
        "perbanyak_(\"dataset/test/ha/\", 30)\n",
        "perbanyak_(\"dataset/test/i/\", 30)\n",
        "perbanyak_(\"dataset/test/i1/\", 30)\n",
        "perbanyak_(\"dataset/test/ja/\", 30)\n",
        "perbanyak_(\"dataset/test/jha/\", 30)\n",
        "perbanyak_(\"dataset/test/ka/\", 30)\n",
        "perbanyak_(\"dataset/test/kha/\", 30)\n",
        "perbanyak_(\"dataset/test/l/\", 30)\n",
        "perbanyak_(\"dataset/test/l1/\", 30)\n",
        "perbanyak_(\"dataset/test/la/\", 30)\n",
        "perbanyak_(\"dataset/test/ma/\", 30)\n",
        "perbanyak_(\"dataset/test/na/\", 30)\n",
        "perbanyak_(\"dataset/test/na2/\", 30)\n",
        "perbanyak_(\"dataset/test/na3/\", 30)\n",
        "perbanyak_(\"dataset/test/na4/\", 30)\n",
        "perbanyak_(\"dataset/test/o/\", 30)\n",
        "perbanyak_(\"dataset/test/o1/\", 30)\n",
        "perbanyak_(\"dataset/test/opening/\", 30)\n",
        "perbanyak_(\"dataset/test/pa/\", 30)\n",
        "perbanyak_(\"dataset/test/pha/\", 30)\n",
        "perbanyak_(\"dataset/test/r/\", 30)\n",
        "perbanyak_(\"dataset/test/r1/\", 30)\n",
        "perbanyak_(\"dataset/test/ra/\", 30)\n",
        "perbanyak_(\"dataset/test/sa/\", 30)\n",
        "perbanyak_(\"dataset/test/sa1/\", 30)\n",
        "perbanyak_(\"dataset/test/sa2/\", 30)\n",
        "perbanyak_(\"dataset/test/ta/\", 30)\n",
        "perbanyak_(\"dataset/test/ta2/\", 30)\n",
        "perbanyak_(\"dataset/test/tha2/\", 30)\n",
        "perbanyak_(\"dataset/test/u/\", 30)\n",
        "perbanyak_(\"dataset/test/u1/\", 30)\n",
        "perbanyak_(\"dataset/test/virama/\", 30)\n",
        "perbanyak_(\"dataset/test/wa/\", 30)\n",
        "perbanyak_(\"dataset/test/ya/\", 30)\n",
        "\n",
        "\n",
        "perbanyak_(\"dataset/train/0/\", 270)\n",
        "perbanyak_(\"dataset/train/1/\", 270)\n",
        "perbanyak_(\"dataset/train/2/\", 270)\n",
        "perbanyak_(\"dataset/train/3/\", 270)\n",
        "perbanyak_(\"dataset/train/4/\", 270)\n",
        "perbanyak_(\"dataset/train/5/\", 270)\n",
        "perbanyak_(\"dataset/train/6/\", 270)\n",
        "perbanyak_(\"dataset/train/7/\", 270)\n",
        "perbanyak_(\"dataset/train/8/\", 270)\n",
        "perbanyak_(\"dataset/train/9/\", 270)\n",
        "perbanyak_(\"dataset/train/a/\", 270)\n",
        "perbanyak_(\"dataset/train/a1/\", 270)\n",
        "perbanyak_(\"dataset/train/ai/\", 270)\n",
        "perbanyak_(\"dataset/train/au/\", 270)\n",
        "perbanyak_(\"dataset/train/ba/\", 270)\n",
        "perbanyak_(\"dataset/train/bha/\", 270)\n",
        "perbanyak_(\"dataset/train/ca/\", 270)\n",
        "perbanyak_(\"dataset/train/cha/\", 270)\n",
        "perbanyak_(\"dataset/train/da/\", 270)\n",
        "perbanyak_(\"dataset/train/da2/\", 270)\n",
        "perbanyak_(\"dataset/train/dha/\", 270)\n",
        "perbanyak_(\"dataset/train/dot/\", 270)\n",
        "perbanyak_(\"dataset/train/e/\", 270)\n",
        "perbanyak_(\"dataset/train/e1/\", 270)\n",
        "perbanyak_(\"dataset/train/eop/\", 270)\n",
        "perbanyak_(\"dataset/train/eos/\", 270)\n",
        "perbanyak_(\"dataset/train/ga/\", 270)\n",
        "perbanyak_(\"dataset/train/gha/\", 270)\n",
        "perbanyak_(\"dataset/train/ha/\", 270)\n",
        "perbanyak_(\"dataset/train/i/\", 270)\n",
        "perbanyak_(\"dataset/train/i1/\", 270)\n",
        "perbanyak_(\"dataset/train/ja/\", 270)\n",
        "perbanyak_(\"dataset/train/jha/\", 270)\n",
        "perbanyak_(\"dataset/train/ka/\", 270)\n",
        "perbanyak_(\"dataset/train/kha/\", 270)\n",
        "perbanyak_(\"dataset/train/l/\", 270)\n",
        "perbanyak_(\"dataset/train/l1/\", 270)\n",
        "perbanyak_(\"dataset/train/la/\", 270)\n",
        "perbanyak_(\"dataset/train/ma/\", 270)\n",
        "perbanyak_(\"dataset/train/na/\", 270)\n",
        "perbanyak_(\"dataset/train/na2/\", 270)\n",
        "perbanyak_(\"dataset/train/na3/\", 270)\n",
        "perbanyak_(\"dataset/train/na4/\", 270)\n",
        "perbanyak_(\"dataset/train/o/\", 270)\n",
        "perbanyak_(\"dataset/train/o1/\", 270)\n",
        "perbanyak_(\"dataset/train/opening/\", 270)\n",
        "perbanyak_(\"dataset/train/pa/\", 270)\n",
        "perbanyak_(\"dataset/train/pha/\", 270)\n",
        "perbanyak_(\"dataset/train/r/\", 270)\n",
        "perbanyak_(\"dataset/train/r1/\", 270)\n",
        "perbanyak_(\"dataset/train/ra/\", 270)\n",
        "perbanyak_(\"dataset/train/sa/\", 270)\n",
        "perbanyak_(\"dataset/train/sa1/\", 270)\n",
        "perbanyak_(\"dataset/train/sa2/\", 270)\n",
        "perbanyak_(\"dataset/train/ta/\", 270)\n",
        "perbanyak_(\"dataset/train/ta2/\", 270)\n",
        "perbanyak_(\"dataset/train/tha2/\", 270)\n",
        "perbanyak_(\"dataset/train/u/\", 270)\n",
        "perbanyak_(\"dataset/train/u1/\", 270)\n",
        "perbanyak_(\"dataset/train/virama/\", 270)\n",
        "perbanyak_(\"dataset/train/wa/\", 270)\n",
        "perbanyak_(\"dataset/train/ya/\", 270)"
      ],
      "execution_count": null,
      "outputs": [
        {
          "output_type": "stream",
          "text": [
            "Processing <PIL.Image.Image image mode=RGB size=64x64 at 0x7FABC030AF50>:  20%|██        | 6/30 [00:00<00:00, 36.91 Samples/s]"
          ],
          "name": "stderr"
        },
        {
          "output_type": "stream",
          "text": [
            "Initialised with 1 image(s) found.\n",
            "Output directory set to dataset/test/0/.."
          ],
          "name": "stdout"
        },
        {
          "output_type": "stream",
          "text": [
            "Processing <PIL.Image.Image image mode=RGB size=64x64 at 0x7FABC031CDD0>: 100%|██████████| 30/30 [00:00<00:00, 93.38 Samples/s]\n",
            "Processing <PIL.Image.Image image mode=RGB size=64x64 at 0x7FABBF0B2D10>:  20%|██        | 6/30 [00:00<00:02,  8.98 Samples/s]"
          ],
          "name": "stderr"
        },
        {
          "output_type": "stream",
          "text": [
            "Initialised with 1 image(s) found.\n",
            "Output directory set to dataset/test/1/.."
          ],
          "name": "stdout"
        },
        {
          "output_type": "stream",
          "text": [
            "Processing <PIL.Image.Image image mode=RGB size=64x64 at 0x7FABC030A950>: 100%|██████████| 30/30 [00:00<00:00, 84.82 Samples/s]\n",
            "Processing <PIL.Image.Image image mode=RGB size=64x64 at 0x7FABBF0B20D0>:  13%|█▎        | 4/30 [00:00<00:02,  8.68 Samples/s]"
          ],
          "name": "stderr"
        },
        {
          "output_type": "stream",
          "text": [
            "Initialised with 1 image(s) found.\n",
            "Output directory set to dataset/test/2/.."
          ],
          "name": "stdout"
        },
        {
          "output_type": "stream",
          "text": [
            "Processing <PIL.Image.Image image mode=RGB size=64x64 at 0x7FABBF0A0E90>: 100%|██████████| 30/30 [00:00<00:00, 76.16 Samples/s]\n",
            "Processing <PIL.Image.Image image mode=RGB size=64x64 at 0x7FABC031C550>:  13%|█▎        | 4/30 [00:00<00:02,  9.94 Samples/s]"
          ],
          "name": "stderr"
        },
        {
          "output_type": "stream",
          "text": [
            "Initialised with 1 image(s) found.\n",
            "Output directory set to dataset/test/3/.."
          ],
          "name": "stdout"
        },
        {
          "output_type": "stream",
          "text": [
            "Processing <PIL.Image.Image image mode=RGB size=64x64 at 0x7FABC030A4D0>: 100%|██████████| 30/30 [00:00<00:00, 90.15 Samples/s]\n",
            "Processing <PIL.Image.Image image mode=RGB size=64x64 at 0x7FABC0383910>:  23%|██▎       | 7/30 [00:00<00:01, 19.54 Samples/s]"
          ],
          "name": "stderr"
        },
        {
          "output_type": "stream",
          "text": [
            "Initialised with 1 image(s) found.\n",
            "Output directory set to dataset/test/4/.."
          ],
          "name": "stdout"
        },
        {
          "output_type": "stream",
          "text": [
            "Processing <PIL.Image.Image image mode=RGB size=64x64 at 0x7FABBF0A0D10>: 100%|██████████| 30/30 [00:00<00:00, 78.21 Samples/s]\n",
            "Processing <PIL.Image.Image image mode=RGB size=64x64 at 0x7FABBF0AE510>:  13%|█▎        | 4/30 [00:00<00:01, 16.69 Samples/s]"
          ],
          "name": "stderr"
        },
        {
          "output_type": "stream",
          "text": [
            "Initialised with 1 image(s) found.\n",
            "Output directory set to dataset/test/5/.."
          ],
          "name": "stdout"
        },
        {
          "output_type": "stream",
          "text": [
            "Processing <PIL.Image.Image image mode=RGB size=64x64 at 0x7FABC02F6C10>: 100%|██████████| 30/30 [00:00<00:00, 86.71 Samples/s]\n",
            "Processing <PIL.Image.Image image mode=RGB size=64x64 at 0x7FABC030AA10>:  17%|█▋        | 5/30 [00:00<00:02,  9.72 Samples/s]"
          ],
          "name": "stderr"
        },
        {
          "output_type": "stream",
          "text": [
            "Initialised with 1 image(s) found.\n",
            "Output directory set to dataset/test/6/.."
          ],
          "name": "stdout"
        },
        {
          "output_type": "stream",
          "text": [
            "Processing <PIL.Image.Image image mode=RGB size=64x64 at 0x7FABBB85F7D0>: 100%|██████████| 30/30 [00:00<00:00, 77.43 Samples/s]\n",
            "Processing <PIL.Image.Image image mode=RGB size=64x64 at 0x7FABBB85FF90>:   0%|          | 0/30 [00:00<?, ? Samples/s]"
          ],
          "name": "stderr"
        },
        {
          "output_type": "stream",
          "text": [
            "Initialised with 1 image(s) found.\n",
            "Output directory set to dataset/test/7/.."
          ],
          "name": "stdout"
        },
        {
          "output_type": "stream",
          "text": [
            "Processing <PIL.Image.Image image mode=RGB size=64x64 at 0x7FABC031CF10>: 100%|██████████| 30/30 [00:00<00:00, 63.05 Samples/s]\n",
            "Processing <PIL.Image.Image image mode=RGB size=64x64 at 0x7FABBB85FED0>:  17%|█▋        | 5/30 [00:00<00:03,  8.28 Samples/s]"
          ],
          "name": "stderr"
        },
        {
          "output_type": "stream",
          "text": [
            "Initialised with 1 image(s) found.\n",
            "Output directory set to dataset/test/8/.."
          ],
          "name": "stdout"
        },
        {
          "output_type": "stream",
          "text": [
            "Processing <PIL.Image.Image image mode=RGB size=64x64 at 0x7FABC030ABD0>: 100%|██████████| 30/30 [00:00<00:00, 72.96 Samples/s]\n",
            "Processing <PIL.Image.Image image mode=RGB size=64x64 at 0x7FABC1378A50>:  17%|█▋        | 5/30 [00:00<00:03,  7.18 Samples/s]"
          ],
          "name": "stderr"
        },
        {
          "output_type": "stream",
          "text": [
            "Initialised with 1 image(s) found.\n",
            "Output directory set to dataset/test/9/.."
          ],
          "name": "stdout"
        },
        {
          "output_type": "stream",
          "text": [
            "Processing <PIL.Image.Image image mode=RGB size=64x64 at 0x7FABC1461910>: 100%|██████████| 30/30 [00:00<00:00, 84.82 Samples/s]\n",
            "Processing <PIL.Image.Image image mode=RGB size=64x64 at 0x7FABC031CF10>:  23%|██▎       | 7/30 [00:00<00:01, 19.21 Samples/s]"
          ],
          "name": "stderr"
        },
        {
          "output_type": "stream",
          "text": [
            "Initialised with 1 image(s) found.\n",
            "Output directory set to dataset/test/a/.."
          ],
          "name": "stdout"
        },
        {
          "output_type": "stream",
          "text": [
            "Processing <PIL.Image.Image image mode=RGB size=64x64 at 0x7FABC1461910>: 100%|██████████| 30/30 [00:00<00:00, 83.56 Samples/s]\n",
            "Processing <PIL.Image.Image image mode=RGB size=64x64 at 0x7FABBB85F410>:  23%|██▎       | 7/30 [00:00<00:01, 18.58 Samples/s]"
          ],
          "name": "stderr"
        },
        {
          "output_type": "stream",
          "text": [
            "Initialised with 1 image(s) found.\n",
            "Output directory set to dataset/test/a1/.."
          ],
          "name": "stdout"
        },
        {
          "output_type": "stream",
          "text": [
            "Processing <PIL.Image.Image image mode=RGB size=64x64 at 0x7FABBF0DBCD0>: 100%|██████████| 30/30 [00:00<00:00, 81.70 Samples/s]\n",
            "Processing <PIL.Image.Image image mode=RGB size=64x64 at 0x7FABBB85F890>:  20%|██        | 6/30 [00:00<00:00, 29.49 Samples/s]"
          ],
          "name": "stderr"
        },
        {
          "output_type": "stream",
          "text": [
            "Initialised with 1 image(s) found.\n",
            "Output directory set to dataset/test/ai/.."
          ],
          "name": "stdout"
        },
        {
          "output_type": "stream",
          "text": [
            "Processing <PIL.Image.Image image mode=RGB size=64x64 at 0x7FAC02B04050>: 100%|██████████| 30/30 [00:00<00:00, 72.96 Samples/s]\n",
            "Processing <PIL.Image.Image image mode=RGB size=64x64 at 0x7FABC7B729D0>:  23%|██▎       | 7/30 [00:00<00:00, 35.69 Samples/s]"
          ],
          "name": "stderr"
        },
        {
          "output_type": "stream",
          "text": [
            "Initialised with 1 image(s) found.\n",
            "Output directory set to dataset/test/au/.."
          ],
          "name": "stdout"
        },
        {
          "output_type": "stream",
          "text": [
            "Processing <PIL.Image.Image image mode=RGB size=64x64 at 0x7FAC02A8CED0>: 100%|██████████| 30/30 [00:00<00:00, 81.57 Samples/s]\n",
            "Processing <PIL.Image.Image image mode=RGB size=64x64 at 0x7FABC140BB10>:  27%|██▋       | 8/30 [00:00<00:00, 39.25 Samples/s]"
          ],
          "name": "stderr"
        },
        {
          "output_type": "stream",
          "text": [
            "Initialised with 1 image(s) found.\n",
            "Output directory set to dataset/test/ba/.."
          ],
          "name": "stdout"
        },
        {
          "output_type": "stream",
          "text": [
            "Processing <PIL.Image.Image image mode=RGB size=64x64 at 0x7FABC13EDE90>: 100%|██████████| 30/30 [00:00<00:00, 96.62 Samples/s]\n",
            "Processing <PIL.Image.Image image mode=RGB size=64x64 at 0x7FABC7B72E10>:  17%|█▋        | 5/30 [00:00<00:02, 12.41 Samples/s]"
          ],
          "name": "stderr"
        },
        {
          "output_type": "stream",
          "text": [
            "Initialised with 1 image(s) found.\n",
            "Output directory set to dataset/test/bha/.."
          ],
          "name": "stdout"
        },
        {
          "output_type": "stream",
          "text": [
            "Processing <PIL.Image.Image image mode=RGB size=64x64 at 0x7FAC02AFA8D0>: 100%|██████████| 30/30 [00:00<00:00, 86.59 Samples/s]\n",
            "Processing <PIL.Image.Image image mode=RGB size=64x64 at 0x7FABC13B54D0>:  13%|█▎        | 4/30 [00:00<00:03,  8.40 Samples/s]"
          ],
          "name": "stderr"
        },
        {
          "output_type": "stream",
          "text": [
            "Initialised with 1 image(s) found.\n",
            "Output directory set to dataset/test/ca/.."
          ],
          "name": "stdout"
        },
        {
          "output_type": "stream",
          "text": [
            "Processing <PIL.Image.Image image mode=RGB size=64x64 at 0x7FABC030A890>: 100%|██████████| 30/30 [00:00<00:00, 81.40 Samples/s]\n",
            "Processing <PIL.Image.Image image mode=RGB size=64x64 at 0x7FABC140BD50>:  30%|███       | 9/30 [00:00<00:00, 44.46 Samples/s]"
          ],
          "name": "stderr"
        },
        {
          "output_type": "stream",
          "text": [
            "Initialised with 1 image(s) found.\n",
            "Output directory set to dataset/test/cha/.."
          ],
          "name": "stdout"
        },
        {
          "output_type": "stream",
          "text": [
            "Processing <PIL.Image.Image image mode=RGB size=64x64 at 0x7FABBF0B2490>: 100%|██████████| 30/30 [00:00<00:00, 97.76 Samples/s]\n",
            "Processing <PIL.Image.Image image mode=RGB size=64x64 at 0x7FABBB8916D0>:  20%|██        | 6/30 [00:00<00:00, 25.64 Samples/s]"
          ],
          "name": "stderr"
        },
        {
          "output_type": "stream",
          "text": [
            "Initialised with 1 image(s) found.\n",
            "Output directory set to dataset/test/da/.."
          ],
          "name": "stdout"
        },
        {
          "output_type": "stream",
          "text": [
            "Processing <PIL.Image.Image image mode=RGB size=64x64 at 0x7FABC87FF090>: 100%|██████████| 30/30 [00:00<00:00, 92.90 Samples/s]\n",
            "Processing <PIL.Image.Image image mode=RGB size=64x64 at 0x7FABBB891990>:  23%|██▎       | 7/30 [00:00<00:00, 28.41 Samples/s]"
          ],
          "name": "stderr"
        },
        {
          "output_type": "stream",
          "text": [
            "Initialised with 1 image(s) found.\n",
            "Output directory set to dataset/test/da2/.."
          ],
          "name": "stdout"
        },
        {
          "output_type": "stream",
          "text": [
            "Processing <PIL.Image.Image image mode=RGB size=64x64 at 0x7FABBF0B2090>: 100%|██████████| 30/30 [00:00<00:00, 88.11 Samples/s]\n",
            "Processing <PIL.Image.Image image mode=RGB size=64x64 at 0x7FABBB885890>:  17%|█▋        | 5/30 [00:00<00:01, 23.52 Samples/s]"
          ],
          "name": "stderr"
        },
        {
          "output_type": "stream",
          "text": [
            "Initialised with 1 image(s) found.\n",
            "Output directory set to dataset/test/dha/.."
          ],
          "name": "stdout"
        },
        {
          "output_type": "stream",
          "text": [
            "Processing <PIL.Image.Image image mode=RGB size=64x64 at 0x7FAC02AFA190>: 100%|██████████| 30/30 [00:00<00:00, 92.35 Samples/s]\n",
            "Processing <PIL.Image.Image image mode=RGB size=64x64 at 0x7FABC13ED610>:  17%|█▋        | 5/30 [00:00<00:02,  9.57 Samples/s]"
          ],
          "name": "stderr"
        },
        {
          "output_type": "stream",
          "text": [
            "Initialised with 1 image(s) found.\n",
            "Output directory set to dataset/test/dot/.."
          ],
          "name": "stdout"
        },
        {
          "output_type": "stream",
          "text": [
            "Processing <PIL.Image.Image image mode=RGB size=64x64 at 0x7FAC03E66A90>: 100%|██████████| 30/30 [00:00<00:00, 81.28 Samples/s]\n",
            "Processing <PIL.Image.Image image mode=RGB size=64x64 at 0x7FABC0AC8CD0>:  17%|█▋        | 5/30 [00:00<00:02,  9.30 Samples/s]"
          ],
          "name": "stderr"
        },
        {
          "output_type": "stream",
          "text": [
            "Initialised with 1 image(s) found.\n",
            "Output directory set to dataset/test/e/.."
          ],
          "name": "stdout"
        },
        {
          "output_type": "stream",
          "text": [
            "Processing <PIL.Image.Image image mode=RGB size=64x64 at 0x7FAC02AFA190>: 100%|██████████| 30/30 [00:00<00:00, 84.26 Samples/s]\n",
            "Processing <PIL.Image.Image image mode=RGB size=64x64 at 0x7FABBB885C90>:  20%|██        | 6/30 [00:00<00:00, 35.59 Samples/s]"
          ],
          "name": "stderr"
        },
        {
          "output_type": "stream",
          "text": [
            "Initialised with 1 image(s) found.\n",
            "Output directory set to dataset/test/e1/.."
          ],
          "name": "stdout"
        },
        {
          "output_type": "stream",
          "text": [
            "Processing <PIL.Image.Image image mode=RGB size=64x64 at 0x7FABC7B72A10>: 100%|██████████| 30/30 [00:00<00:00, 96.77 Samples/s]\n",
            "Processing <PIL.Image.Image image mode=RGB size=64x64 at 0x7FABC0A1AB10>:  17%|█▋        | 5/30 [00:00<00:01, 19.06 Samples/s]"
          ],
          "name": "stderr"
        },
        {
          "output_type": "stream",
          "text": [
            "Initialised with 1 image(s) found.\n",
            "Output directory set to dataset/test/eop/.."
          ],
          "name": "stdout"
        },
        {
          "output_type": "stream",
          "text": [
            "Processing <PIL.Image.Image image mode=RGB size=64x64 at 0x7FABBB8194D0>: 100%|██████████| 30/30 [00:00<00:00, 85.44 Samples/s]\n",
            "Processing <PIL.Image.Image image mode=RGB size=64x64 at 0x7FABC1392E50>:  23%|██▎       | 7/30 [00:00<00:01, 19.88 Samples/s]"
          ],
          "name": "stderr"
        },
        {
          "output_type": "stream",
          "text": [
            "Initialised with 1 image(s) found.\n",
            "Output directory set to dataset/test/eos/.."
          ],
          "name": "stdout"
        },
        {
          "output_type": "stream",
          "text": [
            "Processing <PIL.Image.Image image mode=RGB size=64x64 at 0x7FABC13F6810>: 100%|██████████| 30/30 [00:00<00:00, 80.23 Samples/s]\n",
            "Processing <PIL.Image.Image image mode=RGB size=64x64 at 0x7FABBB829F50>:  27%|██▋       | 8/30 [00:00<00:00, 25.13 Samples/s]"
          ],
          "name": "stderr"
        },
        {
          "output_type": "stream",
          "text": [
            "Initialised with 1 image(s) found.\n",
            "Output directory set to dataset/test/ga/.."
          ],
          "name": "stdout"
        },
        {
          "output_type": "stream",
          "text": [
            "Processing <PIL.Image.Image image mode=RGB size=64x64 at 0x7FABC13F7C90>: 100%|██████████| 30/30 [00:00<00:00, 83.07 Samples/s]\n",
            "Processing <PIL.Image.Image image mode=RGB size=64x64 at 0x7FABBB8237D0>:  27%|██▋       | 8/30 [00:00<00:00, 29.48 Samples/s]"
          ],
          "name": "stderr"
        },
        {
          "output_type": "stream",
          "text": [
            "Initialised with 1 image(s) found.\n",
            "Output directory set to dataset/test/gha/.."
          ],
          "name": "stdout"
        },
        {
          "output_type": "stream",
          "text": [
            "Processing <PIL.Image.Image image mode=RGB size=64x64 at 0x7FABC03A4C50>: 100%|██████████| 30/30 [00:00<00:00, 100.09 Samples/s]\n",
            "Processing <PIL.Image.Image image mode=RGB size=64x64 at 0x7FABBB8239D0>:  17%|█▋        | 5/30 [00:00<00:02,  9.32 Samples/s]"
          ],
          "name": "stderr"
        },
        {
          "output_type": "stream",
          "text": [
            "Initialised with 1 image(s) found.\n",
            "Output directory set to dataset/test/ha/.."
          ],
          "name": "stdout"
        },
        {
          "output_type": "stream",
          "text": [
            "Processing <PIL.Image.Image image mode=RGB size=64x64 at 0x7FABBB819D50>: 100%|██████████| 30/30 [00:00<00:00, 87.00 Samples/s]\n",
            "Processing <PIL.Image.Image image mode=RGB size=64x64 at 0x7FABBB822CD0>:  13%|█▎        | 4/30 [00:00<00:02,  9.39 Samples/s]"
          ],
          "name": "stderr"
        },
        {
          "output_type": "stream",
          "text": [
            "Initialised with 1 image(s) found.\n",
            "Output directory set to dataset/test/i/.."
          ],
          "name": "stdout"
        },
        {
          "output_type": "stream",
          "text": [
            "Processing <PIL.Image.Image image mode=RGB size=64x64 at 0x7FABC13F6D90>: 100%|██████████| 30/30 [00:00<00:00, 98.61 Samples/s]\n",
            "Processing <PIL.Image.Image image mode=RGB size=64x64 at 0x7FABBB844F50>:  17%|█▋        | 5/30 [00:00<00:01, 19.10 Samples/s]"
          ],
          "name": "stderr"
        },
        {
          "output_type": "stream",
          "text": [
            "Initialised with 1 image(s) found.\n",
            "Output directory set to dataset/test/i1/.."
          ],
          "name": "stdout"
        },
        {
          "output_type": "stream",
          "text": [
            "Processing <PIL.Image.Image image mode=RGB size=64x64 at 0x7FABBB822410>: 100%|██████████| 30/30 [00:00<00:00, 85.12 Samples/s]\n",
            "Processing <PIL.Image.Image image mode=RGB size=64x64 at 0x7FABBB843150>:  10%|█         | 3/30 [00:00<00:03,  8.07 Samples/s]"
          ],
          "name": "stderr"
        },
        {
          "output_type": "stream",
          "text": [
            "Initialised with 1 image(s) found.\n",
            "Output directory set to dataset/test/ja/.."
          ],
          "name": "stdout"
        },
        {
          "output_type": "stream",
          "text": [
            "Processing <PIL.Image.Image image mode=RGB size=64x64 at 0x7FABBB819590>: 100%|██████████| 30/30 [00:00<00:00, 84.68 Samples/s]\n",
            "Processing <PIL.Image.Image image mode=RGB size=64x64 at 0x7FABBB81FC50>:  23%|██▎       | 7/30 [00:00<00:02,  9.60 Samples/s]"
          ],
          "name": "stderr"
        },
        {
          "output_type": "stream",
          "text": [
            "Initialised with 1 image(s) found.\n",
            "Output directory set to dataset/test/jha/.."
          ],
          "name": "stdout"
        },
        {
          "output_type": "stream",
          "text": [
            "Processing <PIL.Image.Image image mode=RGB size=64x64 at 0x7FABBB81FD90>: 100%|██████████| 30/30 [00:00<00:00, 76.56 Samples/s]\n",
            "Processing <PIL.Image.Image image mode=RGB size=64x64 at 0x7FABBB885710>:  23%|██▎       | 7/30 [00:00<00:00, 34.66 Samples/s]"
          ],
          "name": "stderr"
        },
        {
          "output_type": "stream",
          "text": [
            "Initialised with 1 image(s) found.\n",
            "Output directory set to dataset/test/ka/.."
          ],
          "name": "stdout"
        },
        {
          "output_type": "stream",
          "text": [
            "Processing <PIL.Image.Image image mode=RGB size=64x64 at 0x7FABBB8196D0>: 100%|██████████| 30/30 [00:00<00:00, 92.98 Samples/s]\n",
            "Processing <PIL.Image.Image image mode=RGB size=64x64 at 0x7FABBF0AE990>:  17%|█▋        | 5/30 [00:00<00:01, 19.67 Samples/s]"
          ],
          "name": "stderr"
        },
        {
          "output_type": "stream",
          "text": [
            "Initialised with 1 image(s) found.\n",
            "Output directory set to dataset/test/kha/.."
          ],
          "name": "stdout"
        },
        {
          "output_type": "stream",
          "text": [
            "Processing <PIL.Image.Image image mode=RGB size=64x64 at 0x7FABC030AF10>: 100%|██████████| 30/30 [00:00<00:00, 100.64 Samples/s]\n",
            "Processing <PIL.Image.Image image mode=RGB size=64x64 at 0x7FABC1384450>:  20%|██        | 6/30 [00:00<00:02,  8.89 Samples/s]"
          ],
          "name": "stderr"
        },
        {
          "output_type": "stream",
          "text": [
            "Initialised with 1 image(s) found.\n",
            "Output directory set to dataset/test/l/.."
          ],
          "name": "stdout"
        },
        {
          "output_type": "stream",
          "text": [
            "Processing <PIL.Image.Image image mode=RGB size=64x64 at 0x7FABBB81F7D0>: 100%|██████████| 30/30 [00:00<00:00, 77.39 Samples/s]\n",
            "Processing <PIL.Image.Image image mode=RGB size=64x64 at 0x7FABBB838750>:  20%|██        | 6/30 [00:00<00:01, 17.57 Samples/s]"
          ],
          "name": "stderr"
        },
        {
          "output_type": "stream",
          "text": [
            "Initialised with 1 image(s) found.\n",
            "Output directory set to dataset/test/l1/.."
          ],
          "name": "stdout"
        },
        {
          "output_type": "stream",
          "text": [
            "Processing <PIL.Image.Image image mode=RGB size=64x64 at 0x7FABBB8197D0>: 100%|██████████| 30/30 [00:00<00:00, 83.44 Samples/s]\n",
            "Processing <PIL.Image.Image image mode=RGB size=64x64 at 0x7FABBB7E9150>:  17%|█▋        | 5/30 [00:00<00:01, 19.11 Samples/s]"
          ],
          "name": "stderr"
        },
        {
          "output_type": "stream",
          "text": [
            "Initialised with 1 image(s) found.\n",
            "Output directory set to dataset/test/la/.."
          ],
          "name": "stdout"
        },
        {
          "output_type": "stream",
          "text": [
            "Processing <PIL.Image.Image image mode=RGB size=64x64 at 0x7FABC1378F90>: 100%|██████████| 30/30 [00:00<00:00, 86.76 Samples/s]\n",
            "Processing <PIL.Image.Image image mode=RGB size=64x64 at 0x7FABBB7F7F50>:  20%|██        | 6/30 [00:00<00:00, 27.11 Samples/s]"
          ],
          "name": "stderr"
        },
        {
          "output_type": "stream",
          "text": [
            "Initialised with 1 image(s) found.\n",
            "Output directory set to dataset/test/ma/.."
          ],
          "name": "stdout"
        },
        {
          "output_type": "stream",
          "text": [
            "Processing <PIL.Image.Image image mode=RGB size=64x64 at 0x7FABC13B5690>: 100%|██████████| 30/30 [00:00<00:00, 85.13 Samples/s]\n",
            "Processing <PIL.Image.Image image mode=RGB size=64x64 at 0x7FABBB7EAE90>:  17%|█▋        | 5/30 [00:00<00:01, 19.84 Samples/s]"
          ],
          "name": "stderr"
        },
        {
          "output_type": "stream",
          "text": [
            "Initialised with 1 image(s) found.\n",
            "Output directory set to dataset/test/na/.."
          ],
          "name": "stdout"
        },
        {
          "output_type": "stream",
          "text": [
            "Processing <PIL.Image.Image image mode=RGB size=64x64 at 0x7FABC1392E90>: 100%|██████████| 30/30 [00:00<00:00, 87.21 Samples/s]\n",
            "Processing <PIL.Image.Image image mode=RGB size=64x64 at 0x7FABBB7E0390>:  17%|█▋        | 5/30 [00:00<00:00, 26.41 Samples/s]"
          ],
          "name": "stderr"
        },
        {
          "output_type": "stream",
          "text": [
            "Initialised with 1 image(s) found.\n",
            "Output directory set to dataset/test/na2/.."
          ],
          "name": "stdout"
        },
        {
          "output_type": "stream",
          "text": [
            "Processing <PIL.Image.Image image mode=RGB size=64x64 at 0x7FABBB852D10>: 100%|██████████| 30/30 [00:00<00:00, 88.48 Samples/s]\n",
            "Processing <PIL.Image.Image image mode=RGB size=64x64 at 0x7FABBB819D50>:  13%|█▎        | 4/30 [00:00<00:03,  8.22 Samples/s]"
          ],
          "name": "stderr"
        },
        {
          "output_type": "stream",
          "text": [
            "Initialised with 1 image(s) found.\n",
            "Output directory set to dataset/test/na3/.."
          ],
          "name": "stdout"
        },
        {
          "output_type": "stream",
          "text": [
            "Processing <PIL.Image.Image image mode=RGB size=64x64 at 0x7FABBB7E0ED0>: 100%|██████████| 30/30 [00:00<00:00, 79.01 Samples/s]\n",
            "Processing <PIL.Image.Image image mode=RGB size=64x64 at 0x7FABC1392E50>:  17%|█▋        | 5/30 [00:00<00:00, 25.21 Samples/s]"
          ],
          "name": "stderr"
        },
        {
          "output_type": "stream",
          "text": [
            "Initialised with 1 image(s) found.\n",
            "Output directory set to dataset/test/na4/.."
          ],
          "name": "stdout"
        },
        {
          "output_type": "stream",
          "text": [
            "Processing <PIL.Image.Image image mode=RGB size=64x64 at 0x7FABBB7E0410>: 100%|██████████| 30/30 [00:00<00:00, 85.63 Samples/s]\n",
            "Processing <PIL.Image.Image image mode=RGB size=64x64 at 0x7FABBB7EF110>:  17%|█▋        | 5/30 [00:00<00:02,  8.78 Samples/s]"
          ],
          "name": "stderr"
        },
        {
          "output_type": "stream",
          "text": [
            "Initialised with 1 image(s) found.\n",
            "Output directory set to dataset/test/o/.."
          ],
          "name": "stdout"
        },
        {
          "output_type": "stream",
          "text": [
            "Processing <PIL.Image.Image image mode=RGB size=64x64 at 0x7FABBB7E0B10>: 100%|██████████| 30/30 [00:00<00:00, 73.18 Samples/s]\n",
            "Processing <PIL.Image.Image image mode=RGB size=64x64 at 0x7FABBB7FDA10>:  17%|█▋        | 5/30 [00:00<00:03,  8.21 Samples/s]"
          ],
          "name": "stderr"
        },
        {
          "output_type": "stream",
          "text": [
            "Initialised with 1 image(s) found.\n",
            "Output directory set to dataset/test/o1/.."
          ],
          "name": "stdout"
        },
        {
          "output_type": "stream",
          "text": [
            "Processing <PIL.Image.Image image mode=RGB size=64x64 at 0x7FABBB7DE510>: 100%|██████████| 30/30 [00:00<00:00, 77.99 Samples/s]\n",
            "Processing <PIL.Image.Image image mode=RGB size=64x64 at 0x7FABBB8068D0>:  13%|█▎        | 4/30 [00:00<00:02,  8.98 Samples/s]"
          ],
          "name": "stderr"
        },
        {
          "output_type": "stream",
          "text": [
            "Initialised with 1 image(s) found.\n",
            "Output directory set to dataset/test/opening/.."
          ],
          "name": "stdout"
        },
        {
          "output_type": "stream",
          "text": [
            "Processing <PIL.Image.Image image mode=RGB size=64x64 at 0x7FABC03A4C50>: 100%|██████████| 30/30 [00:00<00:00, 71.22 Samples/s]\n",
            "Processing <PIL.Image.Image image mode=RGB size=64x64 at 0x7FABBB7FD710>:  20%|██        | 6/30 [00:00<00:01, 16.34 Samples/s]"
          ],
          "name": "stderr"
        },
        {
          "output_type": "stream",
          "text": [
            "Initialised with 1 image(s) found.\n",
            "Output directory set to dataset/test/pa/.."
          ],
          "name": "stdout"
        },
        {
          "output_type": "stream",
          "text": [
            "Processing <PIL.Image.Image image mode=RGB size=64x64 at 0x7FABC13B9C90>: 100%|██████████| 30/30 [00:00<00:00, 91.40 Samples/s]\n",
            "Processing <PIL.Image.Image image mode=RGB size=64x64 at 0x7FABBB7EFD50>:  20%|██        | 6/30 [00:00<00:02,  9.17 Samples/s]"
          ],
          "name": "stderr"
        },
        {
          "output_type": "stream",
          "text": [
            "Initialised with 1 image(s) found.\n",
            "Output directory set to dataset/test/pha/.."
          ],
          "name": "stdout"
        },
        {
          "output_type": "stream",
          "text": [
            "Processing <PIL.Image.Image image mode=RGB size=64x64 at 0x7FABBB7A4A90>: 100%|██████████| 30/30 [00:00<00:00, 82.21 Samples/s]\n",
            "Processing <PIL.Image.Image image mode=RGB size=64x64 at 0x7FABBB7EA6D0>:  17%|█▋        | 5/30 [00:00<00:00, 31.45 Samples/s]"
          ],
          "name": "stderr"
        },
        {
          "output_type": "stream",
          "text": [
            "Initialised with 1 image(s) found.\n",
            "Output directory set to dataset/test/r/.."
          ],
          "name": "stdout"
        },
        {
          "output_type": "stream",
          "text": [
            "Processing <PIL.Image.Image image mode=RGB size=64x64 at 0x7FABC0AC8950>: 100%|██████████| 30/30 [00:00<00:00, 81.29 Samples/s]\n",
            "Processing <PIL.Image.Image image mode=RGB size=64x64 at 0x7FABC03A4C50>:  17%|█▋        | 5/30 [00:00<00:02,  9.26 Samples/s]"
          ],
          "name": "stderr"
        },
        {
          "output_type": "stream",
          "text": [
            "Initialised with 1 image(s) found.\n",
            "Output directory set to dataset/test/r1/.."
          ],
          "name": "stdout"
        },
        {
          "output_type": "stream",
          "text": [
            "Processing <PIL.Image.Image image mode=RGB size=64x64 at 0x7FABBB7E0410>: 100%|██████████| 30/30 [00:00<00:00, 73.60 Samples/s]\n",
            "Processing <PIL.Image.Image image mode=RGB size=64x64 at 0x7FABBB7967D0>:  23%|██▎       | 7/30 [00:00<00:01, 19.38 Samples/s]"
          ],
          "name": "stderr"
        },
        {
          "output_type": "stream",
          "text": [
            "Initialised with 1 image(s) found.\n",
            "Output directory set to dataset/test/ra/.."
          ],
          "name": "stdout"
        },
        {
          "output_type": "stream",
          "text": [
            "Processing <PIL.Image.Image image mode=RGB size=64x64 at 0x7FAC222A9590>: 100%|██████████| 30/30 [00:00<00:00, 91.08 Samples/s]\n",
            "Processing <PIL.Image.Image image mode=RGB size=64x64 at 0x7FABBB7AAF90>:  17%|█▋        | 5/30 [00:00<00:01, 18.03 Samples/s]"
          ],
          "name": "stderr"
        },
        {
          "output_type": "stream",
          "text": [
            "Initialised with 1 image(s) found.\n",
            "Output directory set to dataset/test/sa/.."
          ],
          "name": "stdout"
        },
        {
          "output_type": "stream",
          "text": [
            "Processing <PIL.Image.Image image mode=RGB size=64x64 at 0x7FABC7B729D0>: 100%|██████████| 30/30 [00:00<00:00, 98.33 Samples/s]\n",
            "Processing <PIL.Image.Image image mode=RGB size=64x64 at 0x7FABBB7B4E10>:  10%|█         | 3/30 [00:00<00:03,  7.21 Samples/s]"
          ],
          "name": "stderr"
        },
        {
          "output_type": "stream",
          "text": [
            "Initialised with 1 image(s) found.\n",
            "Output directory set to dataset/test/sa1/.."
          ],
          "name": "stdout"
        },
        {
          "output_type": "stream",
          "text": [
            "Processing <PIL.Image.Image image mode=RGB size=64x64 at 0x7FABBB7AAE10>: 100%|██████████| 30/30 [00:00<00:00, 79.34 Samples/s]\n",
            "Processing <PIL.Image.Image image mode=RGB size=64x64 at 0x7FABBB823F90>:  20%|██        | 6/30 [00:00<00:01, 18.45 Samples/s]"
          ],
          "name": "stderr"
        },
        {
          "output_type": "stream",
          "text": [
            "Initialised with 1 image(s) found.\n",
            "Output directory set to dataset/test/sa2/.."
          ],
          "name": "stdout"
        },
        {
          "output_type": "stream",
          "text": [
            "Processing <PIL.Image.Image image mode=RGB size=64x64 at 0x7FABBB838690>: 100%|██████████| 30/30 [00:00<00:00, 83.85 Samples/s]\n",
            "Processing <PIL.Image.Image image mode=RGB size=64x64 at 0x7FABC13B4550>:  10%|█         | 3/30 [00:00<00:03,  7.59 Samples/s]"
          ],
          "name": "stderr"
        },
        {
          "output_type": "stream",
          "text": [
            "Initialised with 1 image(s) found.\n",
            "Output directory set to dataset/test/ta/.."
          ],
          "name": "stdout"
        },
        {
          "output_type": "stream",
          "text": [
            "Processing <PIL.Image.Image image mode=RGB size=64x64 at 0x7FABBB7E9F50>: 100%|██████████| 30/30 [00:00<00:00, 65.96 Samples/s]\n",
            "Processing <PIL.Image.Image image mode=RGB size=64x64 at 0x7FABBB7A4F90>:  13%|█▎        | 4/30 [00:00<00:03,  8.65 Samples/s]"
          ],
          "name": "stderr"
        },
        {
          "output_type": "stream",
          "text": [
            "Initialised with 1 image(s) found.\n",
            "Output directory set to dataset/test/ta2/.."
          ],
          "name": "stdout"
        },
        {
          "output_type": "stream",
          "text": [
            "Processing <PIL.Image.Image image mode=RGB size=64x64 at 0x7FAC222A9590>: 100%|██████████| 30/30 [00:00<00:00, 84.90 Samples/s]\n",
            "Processing <PIL.Image.Image image mode=RGB size=64x64 at 0x7FABBB8524D0>:  20%|██        | 6/30 [00:00<00:02,  9.80 Samples/s]"
          ],
          "name": "stderr"
        },
        {
          "output_type": "stream",
          "text": [
            "Initialised with 1 image(s) found.\n",
            "Output directory set to dataset/test/tha2/.."
          ],
          "name": "stdout"
        },
        {
          "output_type": "stream",
          "text": [
            "Processing <PIL.Image.Image image mode=RGB size=64x64 at 0x7FABBB7B4090>: 100%|██████████| 30/30 [00:00<00:00, 75.37 Samples/s]\n",
            "Processing <PIL.Image.Image image mode=RGB size=64x64 at 0x7FABBB7DE690>:  23%|██▎       | 7/30 [00:00<00:02,  8.86 Samples/s]"
          ],
          "name": "stderr"
        },
        {
          "output_type": "stream",
          "text": [
            "Initialised with 1 image(s) found.\n",
            "Output directory set to dataset/test/u/.."
          ],
          "name": "stdout"
        },
        {
          "output_type": "stream",
          "text": [
            "Processing <PIL.Image.Image image mode=RGB size=64x64 at 0x7FABBB7B53D0>: 100%|██████████| 30/30 [00:00<00:00, 84.36 Samples/s]\n",
            "Processing <PIL.Image.Image image mode=RGB size=64x64 at 0x7FABBB7B5C50>:   7%|▋         | 2/30 [00:00<00:04,  6.68 Samples/s]"
          ],
          "name": "stderr"
        },
        {
          "output_type": "stream",
          "text": [
            "Initialised with 1 image(s) found.\n",
            "Output directory set to dataset/test/u1/.."
          ],
          "name": "stdout"
        },
        {
          "output_type": "stream",
          "text": [
            "Processing <PIL.Image.Image image mode=RGB size=64x64 at 0x7FABC13ED7D0>: 100%|██████████| 30/30 [00:00<00:00, 65.21 Samples/s]\n",
            "Processing <PIL.Image.Image image mode=RGB size=64x64 at 0x7FABBB7BA8D0>:  10%|█         | 3/30 [00:00<00:03,  8.07 Samples/s]"
          ],
          "name": "stderr"
        },
        {
          "output_type": "stream",
          "text": [
            "Initialised with 1 image(s) found.\n",
            "Output directory set to dataset/test/virama/.."
          ],
          "name": "stdout"
        },
        {
          "output_type": "stream",
          "text": [
            "Processing <PIL.Image.Image image mode=RGB size=64x64 at 0x7FABBB7AAB50>: 100%|██████████| 30/30 [00:00<00:00, 72.75 Samples/s]\n",
            "Processing <PIL.Image.Image image mode=RGB size=64x64 at 0x7FABBB7D2310>:  23%|██▎       | 7/30 [00:00<00:01, 18.09 Samples/s]"
          ],
          "name": "stderr"
        },
        {
          "output_type": "stream",
          "text": [
            "Initialised with 1 image(s) found.\n",
            "Output directory set to dataset/test/wa/.."
          ],
          "name": "stdout"
        },
        {
          "output_type": "stream",
          "text": [
            "Processing <PIL.Image.Image image mode=RGB size=64x64 at 0x7FABBB7EFB50>: 100%|██████████| 30/30 [00:00<00:00, 96.22 Samples/s]\n",
            "Processing <PIL.Image.Image image mode=RGB size=64x64 at 0x7FABBB7BAA90>:  10%|█         | 3/30 [00:00<00:03,  7.13 Samples/s]"
          ],
          "name": "stderr"
        },
        {
          "output_type": "stream",
          "text": [
            "Initialised with 1 image(s) found.\n",
            "Output directory set to dataset/test/ya/.."
          ],
          "name": "stdout"
        },
        {
          "output_type": "stream",
          "text": [
            "Processing <PIL.Image.Image image mode=RGB size=64x64 at 0x7FABBB7EF810>: 100%|██████████| 30/30 [00:00<00:00, 75.91 Samples/s]\n",
            "Processing <PIL.Image.Image image mode=RGB size=64x64 at 0x7FABBB8003D0>:   1%|          | 2/270 [00:00<00:40,  6.57 Samples/s]"
          ],
          "name": "stderr"
        },
        {
          "output_type": "stream",
          "text": [
            "Initialised with 1 image(s) found.\n",
            "Output directory set to dataset/train/0/.."
          ],
          "name": "stdout"
        },
        {
          "output_type": "stream",
          "text": [
            "Processing <PIL.Image.Image image mode=RGB size=64x64 at 0x7FABBB727C50>: 100%|██████████| 270/270 [00:02<00:00, 96.97 Samples/s]\n",
            "Executing Pipeline:   0%|          | 0/270 [00:00<?, ? Samples/s]"
          ],
          "name": "stderr"
        },
        {
          "output_type": "stream",
          "text": [
            "Initialised with 1 image(s) found.\n",
            "Output directory set to dataset/train/1/.."
          ],
          "name": "stdout"
        },
        {
          "output_type": "stream",
          "text": [
            "Processing <PIL.Image.Image image mode=RGB size=64x64 at 0x7FABBB6F2610>: 100%|██████████| 270/270 [00:03<00:00, 76.06 Samples/s] \n",
            "Processing <PIL.Image.Image image mode=RGB size=64x64 at 0x7FABBB7E07D0>:   0%|          | 1/270 [00:00<00:53,  5.05 Samples/s]"
          ],
          "name": "stderr"
        },
        {
          "output_type": "stream",
          "text": [
            "Initialised with 1 image(s) found.\n",
            "Output directory set to dataset/train/2/.."
          ],
          "name": "stdout"
        },
        {
          "output_type": "stream",
          "text": [
            "Processing <PIL.Image.Image image mode=RGB size=64x64 at 0x7FABBB7A4E90>: 100%|██████████| 270/270 [00:03<00:00, 79.38 Samples/s] \n",
            "Processing <PIL.Image.Image image mode=RGB size=64x64 at 0x7FABBB7C06D0>:   2%|▏         | 6/270 [00:00<00:39,  6.75 Samples/s]"
          ],
          "name": "stderr"
        },
        {
          "output_type": "stream",
          "text": [
            "Initialised with 1 image(s) found.\n",
            "Output directory set to dataset/train/3/.."
          ],
          "name": "stdout"
        },
        {
          "output_type": "stream",
          "text": [
            "Processing <PIL.Image.Image image mode=RGB size=64x64 at 0x7FABBB730290>: 100%|██████████| 270/270 [00:03<00:00, 84.45 Samples/s]\n",
            "Processing <PIL.Image.Image image mode=RGB size=64x64 at 0x7FABBB7D2090>:   0%|          | 1/270 [00:00<00:56,  4.72 Samples/s]"
          ],
          "name": "stderr"
        },
        {
          "output_type": "stream",
          "text": [
            "Initialised with 1 image(s) found.\n",
            "Output directory set to dataset/train/4/.."
          ],
          "name": "stdout"
        },
        {
          "output_type": "stream",
          "text": [
            "Processing <PIL.Image.Image image mode=RGB size=64x64 at 0x7FABBB727710>: 100%|██████████| 270/270 [00:03<00:00, 77.95 Samples/s] \n",
            "Processing <PIL.Image.Image image mode=RGB size=64x64 at 0x7FABBB730B50>:   1%|          | 3/270 [00:00<00:39,  6.81 Samples/s]"
          ],
          "name": "stderr"
        },
        {
          "output_type": "stream",
          "text": [
            "Initialised with 1 image(s) found.\n",
            "Output directory set to dataset/train/5/.."
          ],
          "name": "stdout"
        },
        {
          "output_type": "stream",
          "text": [
            "Processing <PIL.Image.Image image mode=RGB size=64x64 at 0x7FABBB73ADD0>: 100%|██████████| 270/270 [00:03<00:00, 82.11 Samples/s] \n",
            "Processing <PIL.Image.Image image mode=RGB size=64x64 at 0x7FABC87FF090>:   4%|▎         | 10/270 [00:00<00:35,  7.40 Samples/s]"
          ],
          "name": "stderr"
        },
        {
          "output_type": "stream",
          "text": [
            "Initialised with 1 image(s) found.\n",
            "Output directory set to dataset/train/6/.."
          ],
          "name": "stdout"
        },
        {
          "output_type": "stream",
          "text": [
            "Processing <PIL.Image.Image image mode=RGB size=64x64 at 0x7FABBB701110>: 100%|██████████| 270/270 [00:03<00:00, 74.57 Samples/s] \n",
            "Processing <PIL.Image.Image image mode=RGB size=64x64 at 0x7FABBB6E3850>:   3%|▎         | 7/270 [00:00<00:11, 22.50 Samples/s]"
          ],
          "name": "stderr"
        },
        {
          "output_type": "stream",
          "text": [
            "Initialised with 1 image(s) found.\n",
            "Output directory set to dataset/train/7/.."
          ],
          "name": "stdout"
        },
        {
          "output_type": "stream",
          "text": [
            "Processing <PIL.Image.Image image mode=RGB size=64x64 at 0x7FABBB727850>: 100%|██████████| 270/270 [00:02<00:00, 91.60 Samples/s] \n",
            "Executing Pipeline:   0%|          | 0/270 [00:00<?, ? Samples/s]"
          ],
          "name": "stderr"
        },
        {
          "output_type": "stream",
          "text": [
            "Initialised with 1 image(s) found.\n",
            "Output directory set to dataset/train/8/.."
          ],
          "name": "stdout"
        },
        {
          "output_type": "stream",
          "text": [
            "Processing <PIL.Image.Image image mode=RGB size=64x64 at 0x7FABBB7447D0>: 100%|██████████| 270/270 [00:03<00:00, 77.83 Samples/s]\n",
            "Processing <PIL.Image.Image image mode=RGB size=64x64 at 0x7FABBB7E9150>:   1%|          | 3/270 [00:00<00:52,  5.11 Samples/s]"
          ],
          "name": "stderr"
        },
        {
          "output_type": "stream",
          "text": [
            "Initialised with 1 image(s) found.\n",
            "Output directory set to dataset/train/9/.."
          ],
          "name": "stdout"
        },
        {
          "output_type": "stream",
          "text": [
            "Processing <PIL.Image.Image image mode=RGB size=64x64 at 0x7FABBB7C0650>: 100%|██████████| 270/270 [00:03<00:00, 82.22 Samples/s] \n",
            "Processing <PIL.Image.Image image mode=RGB size=64x64 at 0x7FABBB701250>:   0%|          | 0/270 [00:00<?, ? Samples/s]"
          ],
          "name": "stderr"
        },
        {
          "output_type": "stream",
          "text": [
            "Initialised with 1 image(s) found.\n",
            "Output directory set to dataset/train/a/.."
          ],
          "name": "stdout"
        },
        {
          "output_type": "stream",
          "text": [
            "Processing <PIL.Image.Image image mode=RGB size=64x64 at 0x7FABBB77EBD0>: 100%|██████████| 270/270 [00:03<00:00, 87.02 Samples/s] \n",
            "Processing <PIL.Image.Image image mode=RGB size=64x64 at 0x7FABBB819590>:   6%|▌         | 16/270 [00:00<00:29,  8.50 Samples/s]"
          ],
          "name": "stderr"
        },
        {
          "output_type": "stream",
          "text": [
            "Initialised with 1 image(s) found.\n",
            "Output directory set to dataset/train/a1/.."
          ],
          "name": "stdout"
        },
        {
          "output_type": "stream",
          "text": [
            "Processing <PIL.Image.Image image mode=RGB size=64x64 at 0x7FABBB723310>: 100%|██████████| 270/270 [00:03<00:00, 82.03 Samples/s] \n",
            "Processing <PIL.Image.Image image mode=RGB size=64x64 at 0x7FABBB73DC10>:   3%|▎         | 7/270 [00:00<00:53,  4.96 Samples/s]"
          ],
          "name": "stderr"
        },
        {
          "output_type": "stream",
          "text": [
            "Initialised with 1 image(s) found.\n",
            "Output directory set to dataset/train/ai/.."
          ],
          "name": "stdout"
        },
        {
          "output_type": "stream",
          "text": [
            "Processing <PIL.Image.Image image mode=RGB size=64x64 at 0x7FABBB765190>: 100%|██████████| 270/270 [00:03<00:00, 74.24 Samples/s]\n",
            "Processing <PIL.Image.Image image mode=RGB size=64x64 at 0x7FABBB765150>:   4%|▎         | 10/270 [00:00<00:34,  7.62 Samples/s]"
          ],
          "name": "stderr"
        },
        {
          "output_type": "stream",
          "text": [
            "Initialised with 1 image(s) found.\n",
            "Output directory set to dataset/train/au/.."
          ],
          "name": "stdout"
        },
        {
          "output_type": "stream",
          "text": [
            "Processing <PIL.Image.Image image mode=RGB size=64x64 at 0x7FABBB765C50>: 100%|██████████| 270/270 [00:03<00:00, 74.58 Samples/s]\n",
            "Processing <PIL.Image.Image image mode=RGB size=64x64 at 0x7FABBB6E3450>:   3%|▎         | 8/270 [00:00<00:26,  9.83 Samples/s]"
          ],
          "name": "stderr"
        },
        {
          "output_type": "stream",
          "text": [
            "Initialised with 1 image(s) found.\n",
            "Output directory set to dataset/train/ba/.."
          ],
          "name": "stdout"
        },
        {
          "output_type": "stream",
          "text": [
            "Processing <PIL.Image.Image image mode=RGB size=64x64 at 0x7FABBB6B6910>: 100%|██████████| 270/270 [00:02<00:00, 91.65 Samples/s] \n",
            "Processing <PIL.Image.Image image mode=RGB size=64x64 at 0x7FABBB75D390>:   6%|▌         | 15/270 [00:00<00:30,  8.29 Samples/s]"
          ],
          "name": "stderr"
        },
        {
          "output_type": "stream",
          "text": [
            "Initialised with 1 image(s) found.\n",
            "Output directory set to dataset/train/bha/.."
          ],
          "name": "stdout"
        },
        {
          "output_type": "stream",
          "text": [
            "Processing <PIL.Image.Image image mode=RGB size=64x64 at 0x7FABBB6CE410>: 100%|██████████| 270/270 [00:02<00:00, 99.62 Samples/s]\n",
            "Processing <PIL.Image.Image image mode=RGB size=64x64 at 0x7FABBB7B4050>:   3%|▎         | 7/270 [00:00<00:32,  8.15 Samples/s]"
          ],
          "name": "stderr"
        },
        {
          "output_type": "stream",
          "text": [
            "Initialised with 1 image(s) found.\n",
            "Output directory set to dataset/train/ca/.."
          ],
          "name": "stdout"
        },
        {
          "output_type": "stream",
          "text": [
            "Processing <PIL.Image.Image image mode=RGB size=64x64 at 0x7FABBB78F710>: 100%|██████████| 270/270 [00:03<00:00, 81.70 Samples/s] \n",
            "Processing <PIL.Image.Image image mode=RGB size=64x64 at 0x7FABBB75D6D0>:   5%|▍         | 13/270 [00:00<00:33,  7.60 Samples/s]"
          ],
          "name": "stderr"
        },
        {
          "output_type": "stream",
          "text": [
            "Initialised with 1 image(s) found.\n",
            "Output directory set to dataset/train/cha/.."
          ],
          "name": "stdout"
        },
        {
          "output_type": "stream",
          "text": [
            "Processing <PIL.Image.Image image mode=RGB size=64x64 at 0x7FABBB6CEED0>: 100%|██████████| 270/270 [00:02<00:00, 97.67 Samples/s]\n",
            "Processing <PIL.Image.Image image mode=RGB size=64x64 at 0x7FABBB7B51D0>:   3%|▎         | 8/270 [00:00<00:28,  9.29 Samples/s]"
          ],
          "name": "stderr"
        },
        {
          "output_type": "stream",
          "text": [
            "Initialised with 1 image(s) found.\n",
            "Output directory set to dataset/train/da/.."
          ],
          "name": "stdout"
        },
        {
          "output_type": "stream",
          "text": [
            "Processing <PIL.Image.Image image mode=RGB size=64x64 at 0x7FABBB78FD10>: 100%|██████████| 270/270 [00:03<00:00, 89.15 Samples/s] \n",
            "Processing <PIL.Image.Image image mode=RGB size=64x64 at 0x7FABBB7BA590>:   4%|▍         | 11/270 [00:00<00:53,  4.80 Samples/s]"
          ],
          "name": "stderr"
        },
        {
          "output_type": "stream",
          "text": [
            "Initialised with 1 image(s) found.\n",
            "Output directory set to dataset/train/da2/.."
          ],
          "name": "stdout"
        },
        {
          "output_type": "stream",
          "text": [
            "Processing <PIL.Image.Image image mode=RGB size=64x64 at 0x7FABBB776ED0>: 100%|██████████| 270/270 [00:03<00:00, 87.64 Samples/s]\n",
            "Processing <PIL.Image.Image image mode=RGB size=64x64 at 0x7FABBB6F2290>:   9%|▉         | 25/270 [00:00<00:15, 15.84 Samples/s]"
          ],
          "name": "stderr"
        },
        {
          "output_type": "stream",
          "text": [
            "Initialised with 1 image(s) found.\n",
            "Output directory set to dataset/train/dha/.."
          ],
          "name": "stdout"
        },
        {
          "output_type": "stream",
          "text": [
            "Processing <PIL.Image.Image image mode=RGB size=64x64 at 0x7FABC1392E50>: 100%|██████████| 270/270 [00:02<00:00, 90.44 Samples/s] \n",
            "Processing <PIL.Image.Image image mode=RGB size=64x64 at 0x7FABBB6C9910>:   3%|▎         | 9/270 [00:00<00:57,  4.52 Samples/s]"
          ],
          "name": "stderr"
        },
        {
          "output_type": "stream",
          "text": [
            "Initialised with 1 image(s) found.\n",
            "Output directory set to dataset/train/dot/.."
          ],
          "name": "stdout"
        },
        {
          "output_type": "stream",
          "text": [
            "Processing <PIL.Image.Image image mode=RGB size=64x64 at 0x7FABBB789990>: 100%|██████████| 270/270 [00:03<00:00, 81.10 Samples/s] \n",
            "Processing <PIL.Image.Image image mode=RGB size=64x64 at 0x7FABBB7650D0>:   7%|▋         | 18/270 [00:00<00:17, 14.37 Samples/s]"
          ],
          "name": "stderr"
        },
        {
          "output_type": "stream",
          "text": [
            "Initialised with 1 image(s) found.\n",
            "Output directory set to dataset/train/e/.."
          ],
          "name": "stdout"
        },
        {
          "output_type": "stream",
          "text": [
            "Processing <PIL.Image.Image image mode=RGB size=64x64 at 0x7FABBB6B0C90>: 100%|██████████| 270/270 [00:03<00:00, 82.20 Samples/s] \n",
            "Processing <PIL.Image.Image image mode=RGB size=64x64 at 0x7FABBB692990>:   6%|▋         | 17/270 [00:00<00:20, 12.14 Samples/s]"
          ],
          "name": "stderr"
        },
        {
          "output_type": "stream",
          "text": [
            "Initialised with 1 image(s) found.\n",
            "Output directory set to dataset/train/e1/.."
          ],
          "name": "stdout"
        },
        {
          "output_type": "stream",
          "text": [
            "Processing <PIL.Image.Image image mode=RGB size=64x64 at 0x7FABBB6E3C50>: 100%|██████████| 270/270 [00:02<00:00, 96.62 Samples/s] \n",
            "Processing <PIL.Image.Image image mode=RGB size=64x64 at 0x7FABBB6DAB90>:  10%|█         | 28/270 [00:00<00:10, 23.46 Samples/s]"
          ],
          "name": "stderr"
        },
        {
          "output_type": "stream",
          "text": [
            "Initialised with 1 image(s) found.\n",
            "Output directory set to dataset/train/eop/.."
          ],
          "name": "stdout"
        },
        {
          "output_type": "stream",
          "text": [
            "Processing <PIL.Image.Image image mode=RGB size=64x64 at 0x7FABBB7AAF90>: 100%|██████████| 270/270 [00:03<00:00, 84.94 Samples/s] \n",
            "Processing <PIL.Image.Image image mode=RGB size=64x64 at 0x7FABBB6248D0>:   8%|▊         | 22/270 [00:00<00:13, 17.87 Samples/s]"
          ],
          "name": "stderr"
        },
        {
          "output_type": "stream",
          "text": [
            "Initialised with 1 image(s) found.\n",
            "Output directory set to dataset/train/eos/.."
          ],
          "name": "stdout"
        },
        {
          "output_type": "stream",
          "text": [
            "Processing <PIL.Image.Image image mode=RGB size=64x64 at 0x7FABBB6D1D90>: 100%|██████████| 270/270 [00:03<00:00, 83.14 Samples/s]\n",
            "Processing <PIL.Image.Image image mode=RGB size=64x64 at 0x7FABBB62B050>:   7%|▋         | 19/270 [00:00<00:33,  7.47 Samples/s]"
          ],
          "name": "stderr"
        },
        {
          "output_type": "stream",
          "text": [
            "Initialised with 1 image(s) found.\n",
            "Output directory set to dataset/train/ga/.."
          ],
          "name": "stdout"
        },
        {
          "output_type": "stream",
          "text": [
            "Processing <PIL.Image.Image image mode=RGB size=64x64 at 0x7FABBB7300D0>: 100%|██████████| 270/270 [00:03<00:00, 84.25 Samples/s] \n",
            "Processing <PIL.Image.Image image mode=RGB size=64x64 at 0x7FABBB617190>:   3%|▎         | 8/270 [00:00<00:45,  5.77 Samples/s]"
          ],
          "name": "stderr"
        },
        {
          "output_type": "stream",
          "text": [
            "Initialised with 1 image(s) found.\n",
            "Output directory set to dataset/train/gha/.."
          ],
          "name": "stdout"
        },
        {
          "output_type": "stream",
          "text": [
            "Processing <PIL.Image.Image image mode=RGB size=64x64 at 0x7FABBB78FB90>: 100%|██████████| 270/270 [00:02<00:00, 90.41 Samples/s] \n",
            "Processing <PIL.Image.Image image mode=RGB size=64x64 at 0x7FABBB6234D0>:   5%|▍         | 13/270 [00:00<00:33,  7.60 Samples/s]"
          ],
          "name": "stderr"
        },
        {
          "output_type": "stream",
          "text": [
            "Initialised with 1 image(s) found.\n",
            "Output directory set to dataset/train/ha/.."
          ],
          "name": "stdout"
        },
        {
          "output_type": "stream",
          "text": [
            "Processing <PIL.Image.Image image mode=RGB size=64x64 at 0x7FABBB6B2E90>: 100%|██████████| 270/270 [00:02<00:00, 95.17 Samples/s] \n",
            "Processing <PIL.Image.Image image mode=RGB size=64x64 at 0x7FABBB6684D0>:  12%|█▏        | 33/270 [00:01<00:09, 24.22 Samples/s]"
          ],
          "name": "stderr"
        },
        {
          "output_type": "stream",
          "text": [
            "Initialised with 1 image(s) found.\n",
            "Output directory set to dataset/train/i/.."
          ],
          "name": "stdout"
        },
        {
          "output_type": "stream",
          "text": [
            "Processing <PIL.Image.Image image mode=RGB size=64x64 at 0x7FABBB73D5D0>: 100%|██████████| 270/270 [00:03<00:00, 85.86 Samples/s] \n",
            "Processing <PIL.Image.Image image mode=RGB size=64x64 at 0x7FABBB6DA950>:   5%|▌         | 14/270 [00:00<00:27,  9.37 Samples/s]"
          ],
          "name": "stderr"
        },
        {
          "output_type": "stream",
          "text": [
            "Initialised with 1 image(s) found.\n",
            "Output directory set to dataset/train/i1/.."
          ],
          "name": "stdout"
        },
        {
          "output_type": "stream",
          "text": [
            "Processing <PIL.Image.Image image mode=RGB size=64x64 at 0x7FABBB72A290>: 100%|██████████| 270/270 [00:03<00:00, 76.40 Samples/s] \n",
            "Processing <PIL.Image.Image image mode=RGB size=64x64 at 0x7FABBB627150>:  14%|█▎        | 37/270 [00:00<00:07, 31.74 Samples/s]"
          ],
          "name": "stderr"
        },
        {
          "output_type": "stream",
          "text": [
            "Initialised with 1 image(s) found.\n",
            "Output directory set to dataset/train/ja/.."
          ],
          "name": "stdout"
        },
        {
          "output_type": "stream",
          "text": [
            "Processing <PIL.Image.Image image mode=RGB size=64x64 at 0x7FABBB628B50>: 100%|██████████| 270/270 [00:02<00:00, 93.43 Samples/s] \n",
            "Processing <PIL.Image.Image image mode=RGB size=64x64 at 0x7FABBB765A90>:   7%|▋         | 19/270 [00:00<00:20, 11.96 Samples/s]"
          ],
          "name": "stderr"
        },
        {
          "output_type": "stream",
          "text": [
            "Initialised with 1 image(s) found.\n",
            "Output directory set to dataset/train/jha/.."
          ],
          "name": "stdout"
        },
        {
          "output_type": "stream",
          "text": [
            "Processing <PIL.Image.Image image mode=RGB size=64x64 at 0x7FABBB625ED0>: 100%|██████████| 270/270 [00:03<00:00, 81.01 Samples/s] \n",
            "Processing <PIL.Image.Image image mode=RGB size=64x64 at 0x7FABBB623790>:  10%|█         | 27/270 [00:00<00:15, 15.41 Samples/s]"
          ],
          "name": "stderr"
        },
        {
          "output_type": "stream",
          "text": [
            "Initialised with 1 image(s) found.\n",
            "Output directory set to dataset/train/ka/.."
          ],
          "name": "stdout"
        },
        {
          "output_type": "stream",
          "text": [
            "Processing <PIL.Image.Image image mode=RGB size=64x64 at 0x7FABBB628AD0>: 100%|██████████| 270/270 [00:02<00:00, 93.66 Samples/s] \n",
            "Processing <PIL.Image.Image image mode=RGB size=64x64 at 0x7FABBB6DA850>:   7%|▋         | 20/270 [00:00<00:19, 12.61 Samples/s]"
          ],
          "name": "stderr"
        },
        {
          "output_type": "stream",
          "text": [
            "Initialised with 1 image(s) found.\n",
            "Output directory set to dataset/train/kha/.."
          ],
          "name": "stdout"
        },
        {
          "output_type": "stream",
          "text": [
            "Processing <PIL.Image.Image image mode=RGB size=64x64 at 0x7FABBB723690>: 100%|██████████| 270/270 [00:02<00:00, 98.85 Samples/s] \n",
            "Processing <PIL.Image.Image image mode=RGB size=64x64 at 0x7FABBB73A5D0>:   9%|▉         | 25/270 [00:00<00:21, 11.59 Samples/s]"
          ],
          "name": "stderr"
        },
        {
          "output_type": "stream",
          "text": [
            "Initialised with 1 image(s) found.\n",
            "Output directory set to dataset/train/l/.."
          ],
          "name": "stdout"
        },
        {
          "output_type": "stream",
          "text": [
            "Processing <PIL.Image.Image image mode=RGB size=64x64 at 0x7FABBB727C10>: 100%|██████████| 270/270 [00:03<00:00, 80.61 Samples/s]\n",
            "Processing <PIL.Image.Image image mode=RGB size=64x64 at 0x7FABBB5DED90>:   3%|▎         | 9/270 [00:00<00:48,  5.35 Samples/s]"
          ],
          "name": "stderr"
        },
        {
          "output_type": "stream",
          "text": [
            "Initialised with 1 image(s) found.\n",
            "Output directory set to dataset/train/l1/.."
          ],
          "name": "stdout"
        },
        {
          "output_type": "stream",
          "text": [
            "Processing <PIL.Image.Image image mode=RGB size=64x64 at 0x7FABBB6DA250>: 100%|██████████| 270/270 [00:03<00:00, 73.26 Samples/s] \n",
            "Processing <PIL.Image.Image image mode=RGB size=64x64 at 0x7FABBB674F50>:   4%|▎         | 10/270 [00:00<00:32,  8.00 Samples/s]"
          ],
          "name": "stderr"
        },
        {
          "output_type": "stream",
          "text": [
            "Initialised with 1 image(s) found.\n",
            "Output directory set to dataset/train/la/.."
          ],
          "name": "stdout"
        },
        {
          "output_type": "stream",
          "text": [
            "Processing <PIL.Image.Image image mode=RGB size=64x64 at 0x7FABBB6B0F50>: 100%|██████████| 270/270 [00:03<00:00, 87.25 Samples/s] \n",
            "Processing <PIL.Image.Image image mode=RGB size=64x64 at 0x7FABBB72AA90>:  11%|█         | 29/270 [00:00<00:13, 18.51 Samples/s]"
          ],
          "name": "stderr"
        },
        {
          "output_type": "stream",
          "text": [
            "Initialised with 1 image(s) found.\n",
            "Output directory set to dataset/train/ma/.."
          ],
          "name": "stdout"
        },
        {
          "output_type": "stream",
          "text": [
            "Processing <PIL.Image.Image image mode=RGB size=64x64 at 0x7FABBB6B7A90>: 100%|██████████| 270/270 [00:02<00:00, 91.39 Samples/s] \n",
            "Processing <PIL.Image.Image image mode=RGB size=64x64 at 0x7FABBB5DE190>:   9%|▉         | 24/270 [00:00<00:17, 14.02 Samples/s]"
          ],
          "name": "stderr"
        },
        {
          "output_type": "stream",
          "text": [
            "Initialised with 1 image(s) found.\n",
            "Output directory set to dataset/train/na/.."
          ],
          "name": "stdout"
        },
        {
          "output_type": "stream",
          "text": [
            "Processing <PIL.Image.Image image mode=RGB size=64x64 at 0x7FABBB628410>: 100%|██████████| 270/270 [00:03<00:00, 85.05 Samples/s] \n",
            "Processing <PIL.Image.Image image mode=RGB size=64x64 at 0x7FABBB73D5D0>:  14%|█▎        | 37/270 [00:00<00:10, 22.98 Samples/s]"
          ],
          "name": "stderr"
        },
        {
          "output_type": "stream",
          "text": [
            "Initialised with 1 image(s) found.\n",
            "Output directory set to dataset/train/na2/.."
          ],
          "name": "stdout"
        },
        {
          "output_type": "stream",
          "text": [
            "Processing <PIL.Image.Image image mode=RGB size=64x64 at 0x7FABBB727090>: 100%|██████████| 270/270 [00:03<00:00, 79.91 Samples/s] \n",
            "Processing <PIL.Image.Image image mode=RGB size=64x64 at 0x7FABBB669C10>:   3%|▎         | 8/270 [00:00<02:10,  2.01 Samples/s]"
          ],
          "name": "stderr"
        },
        {
          "output_type": "stream",
          "text": [
            "Initialised with 1 image(s) found.\n",
            "Output directory set to dataset/train/na3/.."
          ],
          "name": "stdout"
        },
        {
          "output_type": "stream",
          "text": [
            "Processing <PIL.Image.Image image mode=RGB size=64x64 at 0x7FABBB6685D0>: 100%|██████████| 270/270 [00:03<00:00, 85.29 Samples/s] \n",
            "Processing <PIL.Image.Image image mode=RGB size=64x64 at 0x7FABBB6C9410>:  14%|█▍        | 39/270 [00:00<00:09, 23.83 Samples/s]"
          ],
          "name": "stderr"
        },
        {
          "output_type": "stream",
          "text": [
            "Initialised with 1 image(s) found.\n",
            "Output directory set to dataset/train/na4/.."
          ],
          "name": "stdout"
        },
        {
          "output_type": "stream",
          "text": [
            "Processing <PIL.Image.Image image mode=RGB size=64x64 at 0x7FABBB628550>: 100%|██████████| 270/270 [00:02<00:00, 91.73 Samples/s] \n",
            "Processing <PIL.Image.Image image mode=RGB size=64x64 at 0x7FABBB612AD0>:  11%|█         | 30/270 [00:00<00:15, 15.63 Samples/s]"
          ],
          "name": "stderr"
        },
        {
          "output_type": "stream",
          "text": [
            "Initialised with 1 image(s) found.\n",
            "Output directory set to dataset/train/o/.."
          ],
          "name": "stdout"
        },
        {
          "output_type": "stream",
          "text": [
            "Processing <PIL.Image.Image image mode=RGB size=64x64 at 0x7FABBB787F50>: 100%|██████████| 270/270 [00:03<00:00, 78.22 Samples/s] \n",
            "Processing <PIL.Image.Image image mode=RGB size=64x64 at 0x7FABBB6C9E90>:  14%|█▎        | 37/270 [00:01<00:12, 18.62 Samples/s]"
          ],
          "name": "stderr"
        },
        {
          "output_type": "stream",
          "text": [
            "Initialised with 1 image(s) found.\n",
            "Output directory set to dataset/train/o1/.."
          ],
          "name": "stdout"
        },
        {
          "output_type": "stream",
          "text": [
            "Processing <PIL.Image.Image image mode=RGB size=64x64 at 0x7FABBB6B2510>: 100%|██████████| 270/270 [00:03<00:00, 78.89 Samples/s] \n",
            "Processing <PIL.Image.Image image mode=RGB size=64x64 at 0x7FABBB676450>:  12%|█▏        | 32/270 [00:00<00:09, 23.98 Samples/s]"
          ],
          "name": "stderr"
        },
        {
          "output_type": "stream",
          "text": [
            "Initialised with 1 image(s) found.\n",
            "Output directory set to dataset/train/opening/.."
          ],
          "name": "stdout"
        },
        {
          "output_type": "stream",
          "text": [
            "Processing <PIL.Image.Image image mode=RGB size=64x64 at 0x7FABBB619790>: 100%|██████████| 270/270 [00:03<00:00, 78.97 Samples/s] \n",
            "Processing <PIL.Image.Image image mode=RGB size=64x64 at 0x7FABBB6CEB50>:  10%|█         | 28/270 [00:00<00:12, 19.91 Samples/s]"
          ],
          "name": "stderr"
        },
        {
          "output_type": "stream",
          "text": [
            "Initialised with 1 image(s) found.\n",
            "Output directory set to dataset/train/pa/.."
          ],
          "name": "stdout"
        },
        {
          "output_type": "stream",
          "text": [
            "Processing <PIL.Image.Image image mode=RGB size=64x64 at 0x7FABBB685D10>: 100%|██████████| 270/270 [00:02<00:00, 90.11 Samples/s] \n",
            "Processing <PIL.Image.Image image mode=RGB size=64x64 at 0x7FABBB5AE810>:   9%|▊         | 23/270 [00:00<00:15, 16.39 Samples/s]"
          ],
          "name": "stderr"
        },
        {
          "output_type": "stream",
          "text": [
            "Initialised with 1 image(s) found.\n",
            "Output directory set to dataset/train/pha/.."
          ],
          "name": "stdout"
        },
        {
          "output_type": "stream",
          "text": [
            "Processing <PIL.Image.Image image mode=RGB size=64x64 at 0x7FABC038C0D0>: 100%|██████████| 270/270 [00:03<00:00, 89.52 Samples/s] \n",
            "Processing <PIL.Image.Image image mode=RGB size=64x64 at 0x7FABBB5D6110>:  11%|█         | 29/270 [00:01<00:13, 18.10 Samples/s]"
          ],
          "name": "stderr"
        },
        {
          "output_type": "stream",
          "text": [
            "Initialised with 1 image(s) found.\n",
            "Output directory set to dataset/train/r/.."
          ],
          "name": "stdout"
        },
        {
          "output_type": "stream",
          "text": [
            "Processing <PIL.Image.Image image mode=RGB size=64x64 at 0x7FABBB623D90>: 100%|██████████| 270/270 [00:03<00:00, 71.84 Samples/s] \n",
            "Processing <PIL.Image.Image image mode=RGB size=64x64 at 0x7FABBB5E5C10>:  11%|█▏        | 31/270 [00:00<00:16, 14.32 Samples/s]"
          ],
          "name": "stderr"
        },
        {
          "output_type": "stream",
          "text": [
            "Initialised with 1 image(s) found.\n",
            "Output directory set to dataset/train/r1/.."
          ],
          "name": "stdout"
        },
        {
          "output_type": "stream",
          "text": [
            "Processing <PIL.Image.Image image mode=RGB size=64x64 at 0x7FABBB5E7B50>: 100%|██████████| 270/270 [00:03<00:00, 80.55 Samples/s] \n",
            "Processing <PIL.Image.Image image mode=RGB size=64x64 at 0x7FABBB6B2ED0>:  11%|█         | 29/270 [00:00<00:11, 20.19 Samples/s]"
          ],
          "name": "stderr"
        },
        {
          "output_type": "stream",
          "text": [
            "Initialised with 1 image(s) found.\n",
            "Output directory set to dataset/train/ra/.."
          ],
          "name": "stdout"
        },
        {
          "output_type": "stream",
          "text": [
            "Processing <PIL.Image.Image image mode=RGB size=64x64 at 0x7FABBB6B2650>: 100%|██████████| 270/270 [00:02<00:00, 93.11 Samples/s] \n",
            "Processing <PIL.Image.Image image mode=RGB size=64x64 at 0x7FABBB59D150>:   7%|▋         | 20/270 [00:00<00:19, 12.77 Samples/s]"
          ],
          "name": "stderr"
        },
        {
          "output_type": "stream",
          "text": [
            "Initialised with 1 image(s) found.\n",
            "Output directory set to dataset/train/sa/.."
          ],
          "name": "stdout"
        },
        {
          "output_type": "stream",
          "text": [
            "Processing <PIL.Image.Image image mode=RGB size=64x64 at 0x7FABBB5B3190>: 100%|██████████| 270/270 [00:02<00:00, 98.47 Samples/s]\n",
            "Processing <PIL.Image.Image image mode=RGB size=64x64 at 0x7FABBB7E0610>:   7%|▋         | 18/270 [00:00<00:35,  7.16 Samples/s]"
          ],
          "name": "stderr"
        },
        {
          "output_type": "stream",
          "text": [
            "Initialised with 1 image(s) found.\n",
            "Output directory set to dataset/train/sa1/.."
          ],
          "name": "stdout"
        },
        {
          "output_type": "stream",
          "text": [
            "Processing <PIL.Image.Image image mode=RGB size=64x64 at 0x7FABBB5B3ED0>: 100%|██████████| 270/270 [00:02<00:00, 93.18 Samples/s] \n",
            "Processing <PIL.Image.Image image mode=RGB size=64x64 at 0x7FABBB5CBB90>:   0%|          | 0/270 [00:00<?, ? Samples/s]"
          ],
          "name": "stderr"
        },
        {
          "output_type": "stream",
          "text": [
            "Initialised with 1 image(s) found.\n",
            "Output directory set to dataset/train/sa2/.."
          ],
          "name": "stdout"
        },
        {
          "output_type": "stream",
          "text": [
            "Processing <PIL.Image.Image image mode=RGB size=64x64 at 0x7FABBB663350>: 100%|██████████| 270/270 [00:03<00:00, 81.63 Samples/s] \n",
            "Processing <PIL.Image.Image image mode=RGB size=64x64 at 0x7FABBB5FCF90>:   6%|▌         | 15/270 [00:00<00:37,  6.74 Samples/s]"
          ],
          "name": "stderr"
        },
        {
          "output_type": "stream",
          "text": [
            "Initialised with 1 image(s) found.\n",
            "Output directory set to dataset/train/ta/.."
          ],
          "name": "stdout"
        },
        {
          "output_type": "stream",
          "text": [
            "Processing <PIL.Image.Image image mode=RGB size=64x64 at 0x7FABBB787F90>: 100%|██████████| 270/270 [00:03<00:00, 80.61 Samples/s]\n",
            "Processing <PIL.Image.Image image mode=RGB size=64x64 at 0x7FABBB6B0B50>:  15%|█▌        | 41/270 [00:01<00:10, 22.72 Samples/s]"
          ],
          "name": "stderr"
        },
        {
          "output_type": "stream",
          "text": [
            "Initialised with 1 image(s) found.\n",
            "Output directory set to dataset/train/ta2/.."
          ],
          "name": "stdout"
        },
        {
          "output_type": "stream",
          "text": [
            "Processing <PIL.Image.Image image mode=RGB size=64x64 at 0x7FABBB5CB350>: 100%|██████████| 270/270 [00:03<00:00, 88.85 Samples/s] \n",
            "Processing <PIL.Image.Image image mode=RGB size=64x64 at 0x7FABBB727A10>:   4%|▍         | 11/270 [00:00<00:27,  9.32 Samples/s]"
          ],
          "name": "stderr"
        },
        {
          "output_type": "stream",
          "text": [
            "Initialised with 1 image(s) found.\n",
            "Output directory set to dataset/train/tha2/.."
          ],
          "name": "stdout"
        },
        {
          "output_type": "stream",
          "text": [
            "Processing <PIL.Image.Image image mode=RGB size=64x64 at 0x7FABBB5DFD10>: 100%|██████████| 270/270 [00:03<00:00, 76.12 Samples/s] \n",
            "Processing <PIL.Image.Image image mode=RGB size=64x64 at 0x7FABBB701710>:  11%|█▏        | 31/270 [00:00<00:11, 19.97 Samples/s]"
          ],
          "name": "stderr"
        },
        {
          "output_type": "stream",
          "text": [
            "Initialised with 1 image(s) found.\n",
            "Output directory set to dataset/train/u/.."
          ],
          "name": "stdout"
        },
        {
          "output_type": "stream",
          "text": [
            "Processing <PIL.Image.Image image mode=RGB size=64x64 at 0x7FABBB5B17D0>: 100%|██████████| 270/270 [00:03<00:00, 83.60 Samples/s]\n",
            "Processing <PIL.Image.Image image mode=RGB size=64x64 at 0x7FABBB57D0D0>:   7%|▋         | 19/270 [00:00<00:25,  9.76 Samples/s]"
          ],
          "name": "stderr"
        },
        {
          "output_type": "stream",
          "text": [
            "Initialised with 1 image(s) found.\n",
            "Output directory set to dataset/train/u1/.."
          ],
          "name": "stdout"
        },
        {
          "output_type": "stream",
          "text": [
            "Processing <PIL.Image.Image image mode=RGB size=64x64 at 0x7FABBB78FE50>: 100%|██████████| 270/270 [00:04<00:00, 64.62 Samples/s] \n",
            "Processing <PIL.Image.Image image mode=RGB size=64x64 at 0x7FABBB727E50>:  14%|█▍        | 39/270 [00:00<00:07, 29.56 Samples/s]"
          ],
          "name": "stderr"
        },
        {
          "output_type": "stream",
          "text": [
            "Initialised with 1 image(s) found.\n",
            "Output directory set to dataset/train/virama/.."
          ],
          "name": "stdout"
        },
        {
          "output_type": "stream",
          "text": [
            "Processing <PIL.Image.Image image mode=RGB size=64x64 at 0x7FABBB5B15D0>: 100%|██████████| 270/270 [00:03<00:00, 81.52 Samples/s]\n",
            "Processing <PIL.Image.Image image mode=RGB size=64x64 at 0x7FABBB640410>:   9%|▉         | 24/270 [00:00<00:18, 12.96 Samples/s]"
          ],
          "name": "stderr"
        },
        {
          "output_type": "stream",
          "text": [
            "Initialised with 1 image(s) found.\n",
            "Output directory set to dataset/train/wa/.."
          ],
          "name": "stdout"
        },
        {
          "output_type": "stream",
          "text": [
            "Processing <PIL.Image.Image image mode=RGB size=64x64 at 0x7FABBB66EC50>: 100%|██████████| 270/270 [00:03<00:00, 79.75 Samples/s] \n",
            "Processing <PIL.Image.Image image mode=RGB size=64x64 at 0x7FABBB5E50D0>:  13%|█▎        | 36/270 [00:00<00:09, 24.60 Samples/s]"
          ],
          "name": "stderr"
        },
        {
          "output_type": "stream",
          "text": [
            "Initialised with 1 image(s) found.\n",
            "Output directory set to dataset/train/ya/.."
          ],
          "name": "stdout"
        },
        {
          "output_type": "stream",
          "text": [
            "Processing <PIL.Image.Image image mode=RGB size=64x64 at 0x7FABBB625090>: 100%|██████████| 270/270 [00:02<00:00, 93.87 Samples/s] \n"
          ],
          "name": "stderr"
        }
      ]
    },
    {
      "cell_type": "markdown",
      "metadata": {
        "id": "5rwBxzPe906J"
      },
      "source": [
        "Sekarang, mari perbanyak masing-masing dataset train dan test dengan Augmentor."
      ]
    },
    {
      "cell_type": "markdown",
      "metadata": {
        "id": "XveY9KT4-AVs"
      },
      "source": [
        "Dan jangan lupa, hapuslah file original `5.png` dan `s.png` dari folder `train` untuk kita sisakan file original di folder `test`. Dengan ini kita mendapatkan 270 varian gambar 5 dan 270 varian gambar s untuk training, dan kita juga mendapatkan 31 varian gambar 5 dan 31 varian gambar s untuk testing."
      ]
    },
    {
      "cell_type": "code",
      "metadata": {
        "id": "Z_W1qNBb6xmk"
      },
      "source": [
        "#!rm dataset/train/5/lima.png\n",
        "#!rm dataset/train/s/s.png\n",
        "#!rm dataset/train/w/w.png\n",
        "\n",
        "!rm -rf dataset"
      ],
      "execution_count": null,
      "outputs": []
    },
    {
      "cell_type": "markdown",
      "metadata": {
        "id": "WIpTwlmR-czZ"
      },
      "source": [
        "## FIle Training\n",
        "\n",
        "Berikut adalah teknik untuk menampilkan 20 file yang ada pada folder `train/5` dan test `test/s`. Gunakan `glob` untuk mengambil daftar file pada suatu folder.\n",
        "\n",
        "Jika anda menggunakan `jupyter notebook`, maka tambahkanlah baris `%matplotlib inline` di bawah `import matplotlib.pyplot as plt` untuk mengaktifkan penampil fungsi plot pada `notebook` anda."
      ]
    },
    {
      "cell_type": "code",
      "metadata": {
        "id": "Z3WiJkrUAVVw"
      },
      "source": [
        "import glob\n",
        "import matplotlib.pyplot as plt\n",
        "#%matplotlib inline\n",
        "\n",
        "def tampilkan_6_kali_5_gambar_pada_alamat(ini):\n",
        "  a = glob.glob(ini)\n",
        "\n",
        "  w=10\n",
        "  h=10\n",
        "  fig=plt.figure(figsize=(8, 8))\n",
        "  columns = 6\n",
        "  rows = 5\n",
        "  for i in range(1, columns*rows +1):\n",
        "      img = plt.imread(a[i])\n",
        "      fig.add_subplot(rows, columns, i)\n",
        "      plt.imshow(img)\n",
        "  plt.show()"
      ],
      "execution_count": null,
      "outputs": []
    },
    {
      "cell_type": "code",
      "metadata": {
        "id": "raqZNzdg-z35",
        "colab": {
          "base_uri": "https://localhost:8080/",
          "height": 475
        },
        "outputId": "90351c35-1e8d-4472-ef01-2e1a9e1f3ee4"
      },
      "source": [
        "tampilkan_6_kali_5_gambar_pada_alamat(\"dataset/train/2/*\")"
      ],
      "execution_count": null,
      "outputs": [
        {
          "output_type": "display_data",
          "data": {
            "image/png": "[encoded data removed]",
            "text/plain": [
              "<Figure size 576x576 with 30 Axes>"
            ]
          },
          "metadata": {
            "tags": [],
            "needs_background": "light"
          }
        }
      ]
    },
    {
      "cell_type": "code",
      "metadata": {
        "id": "oUq5eRLIey1L",
        "colab": {
          "base_uri": "https://localhost:8080/",
          "height": 475
        },
        "outputId": "1dd804e5-5be4-40f2-fe0f-50beb06f43d4"
      },
      "source": [
        "tampilkan_6_kali_5_gambar_pada_alamat(\"dataset/test/sa1/*\")"
      ],
      "execution_count": null,
      "outputs": [
        {
          "output_type": "display_data",
          "data": {
            "image/png": "[encoded data removed]",
            "text/plain": [
              "<Figure size 576x576 with 30 Axes>"
            ]
          },
          "metadata": {
            "tags": [],
            "needs_background": "light"
          }
        }
      ]
    },
    {
      "cell_type": "markdown",
      "metadata": {
        "id": "iZuCw4zpe9If"
      },
      "source": [
        "## Fase Training\n",
        "\n",
        "Pada fase training ini, dipergunakan arsitektur CNN sederhana yang terdiri atas 1 layer konvolusi, 1 layer pooling, 1 layer flatten, yang terkoneksi dengan 2 fully connected layer lainnya.\n",
        "\n",
        "Hasil akhir penentuan ada pada bagian node paling akhir di mana\n",
        "\n",
        "`model.add(Dense(units = 1, activation = 'sigmoid'))`"
      ]
    },
    {
      "cell_type": "code",
      "metadata": {
        "id": "lCJtLmVC62mZ"
      },
      "source": [
        "from keras.models import Sequential\n",
        "from keras.layers import Conv2D, MaxPooling2D, Flatten, Dense, Activation\n",
        "from keras.preprocessing.image import ImageDataGenerator\n",
        "from keras.metrics import categorical_accuracy\n",
        "\n",
        "\n",
        "size_ = 16\n",
        "\n",
        "model = Sequential()\n",
        "\n",
        "model.add(Conv2D(4, (3, 3), input_shape = (size_, size_, 3), activation = 'relu'))\n",
        "model.add(Conv2D(8, (3, 3), input_shape = (size_, size_, 3), activation = 'relu'))\n",
        "model.add(Conv2D(16, (3, 3), input_shape = (size_, size_, 3), activation = 'relu'))\n",
        "model.add(Conv2D(32, (3, 3), input_shape = (size_, size_, 3), activation = 'relu'))\n",
        "model.add(MaxPooling2D(pool_size = (2, 2)))\n",
        "model.add(Flatten())\n",
        "\n",
        "model.add(Dense(units = 10, activation = 'relu'))\n",
        "model.add(Dense(units = 62, activation = 'softmax'))\n",
        "\n",
        "model.compile(optimizer = 'sgd', loss = 'categorical_crossentropy', metrics = [categorical_accuracy])"
      ],
      "execution_count": null,
      "outputs": []
    },
    {
      "cell_type": "markdown",
      "metadata": {
        "id": "E4TiRAxtfwlS"
      },
      "source": [
        "Berikut adalah arsitektur akhir CNN yang akan kita pergunakan."
      ]
    },
    {
      "cell_type": "code",
      "metadata": {
        "id": "LBth8YW3fu0W",
        "colab": {
          "base_uri": "https://localhost:8080/"
        },
        "outputId": "331f9b69-c2f2-4f78-dfb7-d649cebb69ca"
      },
      "source": [
        "model.summary()"
      ],
      "execution_count": null,
      "outputs": [
        {
          "output_type": "stream",
          "text": [
            "Model: \"sequential\"\n",
            "_________________________________________________________________\n",
            "Layer (type)                 Output Shape              Param #   \n",
            "=================================================================\n",
            "conv2d (Conv2D)              (None, 14, 14, 4)         112       \n",
            "_________________________________________________________________\n",
            "conv2d_1 (Conv2D)            (None, 12, 12, 8)         296       \n",
            "_________________________________________________________________\n",
            "conv2d_2 (Conv2D)            (None, 10, 10, 16)        1168      \n",
            "_________________________________________________________________\n",
            "conv2d_3 (Conv2D)            (None, 8, 8, 32)          4640      \n",
            "_________________________________________________________________\n",
            "max_pooling2d (MaxPooling2D) (None, 4, 4, 32)          0         \n",
            "_________________________________________________________________\n",
            "flatten (Flatten)            (None, 512)               0         \n",
            "_________________________________________________________________\n",
            "dense (Dense)                (None, 10)                5130      \n",
            "_________________________________________________________________\n",
            "dense_1 (Dense)              (None, 62)                682       \n",
            "=================================================================\n",
            "Total params: 12,028\n",
            "Trainable params: 12,028\n",
            "Non-trainable params: 0\n",
            "_________________________________________________________________\n"
          ],
          "name": "stdout"
        }
      ]
    },
    {
      "cell_type": "markdown",
      "metadata": {
        "id": "R7VkOZVrf_Q7"
      },
      "source": [
        "Sekarang, mari kita set konfigurasi di mana lokasi data train dan data test kita berada."
      ]
    },
    {
      "cell_type": "code",
      "metadata": {
        "id": "SDw3GPoZf-Jd",
        "colab": {
          "base_uri": "https://localhost:8080/"
        },
        "outputId": "828ee248-ddb8-49cc-e699-a78e7dc8b7aa"
      },
      "source": [
        "train = ImageDataGenerator(rescale = 1./255)\n",
        "test = ImageDataGenerator(rescale = 1./255)\n",
        "train_data = train.flow_from_directory('dataset/train', target_size = (size_, size_), batch_size = 32, class_mode = 'categorical')\n",
        "test_data = test.flow_from_directory('dataset/test', target_size = (size_, size_), batch_size = 32, class_mode = 'categorical')"
      ],
      "execution_count": null,
      "outputs": [
        {
          "output_type": "stream",
          "text": [
            "Found 16802 images belonging to 62 classes.\n",
            "Found 1922 images belonging to 62 classes.\n"
          ],
          "name": "stdout"
        }
      ]
    },
    {
      "cell_type": "markdown",
      "metadata": {
        "id": "BPgaJ4M6gNX5"
      },
      "source": [
        "Pastikan isi folder `dataset/train`nya hanya terdiri atas 2 folder saja, tanpa ada folder tambahan `.ipynb_checkpoints`."
      ]
    },
    {
      "cell_type": "code",
      "metadata": {
        "id": "aaARZOT77BgJ",
        "colab": {
          "base_uri": "https://localhost:8080/"
        },
        "outputId": "5634467f-4459-4480-c738-33009a354427"
      },
      "source": [
        "!ls -al dataset/train/"
      ],
      "execution_count": null,
      "outputs": [
        {
          "output_type": "stream",
          "text": [
            "total 2052\n",
            "drwxr-xr-x 64 root root  4096 Jul 20  2020 .\n",
            "drwxr-xr-x  4 root root  4096 Jul 20  2020 ..\n",
            "drwxr-xr-x  2 root root 28672 Mar 30 00:21 0\n",
            "drwxr-xr-x  2 root root 32768 Mar 30 00:21 1\n",
            "drwxr-xr-x  2 root root 32768 Mar 30 00:21 2\n",
            "drwxr-xr-x  2 root root 32768 Mar 30 00:21 3\n",
            "drwxr-xr-x  2 root root 32768 Mar 30 00:21 4\n",
            "drwxr-xr-x  2 root root 32768 Mar 30 00:21 5\n",
            "drwxr-xr-x  2 root root 36864 Mar 30 00:21 6\n",
            "drwxr-xr-x  2 root root 36864 Mar 30 00:21 7\n",
            "drwxr-xr-x  2 root root 36864 Mar 30 00:21 8\n",
            "drwxr-xr-x  2 root root 32768 Mar 30 00:22 9\n",
            "drwxr-xr-x  2 root root 32768 Mar 30 00:22 a\n",
            "drwxr-xr-x  2 root root 28672 Mar 30 00:22 a1\n",
            "drwxr-xr-x  2 root root 28672 Mar 30 00:22 ai\n",
            "drwxr-xr-x  2 root root 32768 Mar 30 00:22 au\n",
            "drwxr-xr-x  2 root root 32768 Mar 30 00:22 ba\n",
            "drwxr-xr-x  2 root root 36864 Mar 30 00:22 bha\n",
            "drwxr-xr-x  2 root root 28672 Mar 30 00:22 ca\n",
            "drwxr-xr-x  2 root root 36864 Mar 30 00:22 cha\n",
            "drwxr-xr-x  2 root root 32768 Mar 30 00:22 da\n",
            "drwxr-xr-x  2 root root 36864 Mar 30 00:22 da2\n",
            "drwxr-xr-x  2 root root 36864 Mar 30 00:22 dha\n",
            "drwxr-xr-x  2 root root 32768 Mar 30 00:22 dot\n",
            "drwxr-xr-x  2 root root 32768 Mar 30 00:22 e\n",
            "drwxr-xr-x  2 root root 36864 Mar 30 00:22 e1\n",
            "drwxr-xr-x  2 root root 32768 Mar 30 00:22 eop\n",
            "drwxr-xr-x  2 root root 36864 Mar 30 00:22 eos\n",
            "drwxr-xr-x  2 root root 32768 Mar 30 00:22 ga\n",
            "drwxr-xr-x  2 root root 32768 Mar 30 00:22 gha\n",
            "drwxr-xr-x  2 root root 32768 Mar 30 00:23 ha\n",
            "drwxr-xr-x  2 root root 32768 Mar 30 00:23 i\n",
            "drwxr-xr-x  2 root root 32768 Mar 30 00:23 i1\n",
            "drwxr-xr-x  2 root root 36864 Mar 30 00:23 ja\n",
            "drwxr-xr-x  2 root root 36864 Mar 30 00:23 jha\n",
            "drwxr-xr-x  2 root root 32768 Mar 30 00:23 ka\n",
            "drwxr-xr-x  2 root root 36864 Mar 30 00:23 kha\n",
            "drwxr-xr-x  2 root root 32768 Mar 30 00:23 l\n",
            "drwxr-xr-x  2 root root 28672 Mar 30 00:23 l1\n",
            "drwxr-xr-x  2 root root 36864 Mar 30 00:23 la\n",
            "drwxr-xr-x  2 root root 28672 Mar 30 00:23 ma\n",
            "drwxr-xr-x  2 root root 36864 Mar 30 00:23 na\n",
            "drwxr-xr-x  2 root root 32768 Mar 30 00:23 na2\n",
            "drwxr-xr-x  2 root root 36864 Mar 30 00:23 na3\n",
            "drwxr-xr-x  2 root root 32768 Mar 30 00:23 na4\n",
            "drwxr-xr-x  2 root root 32768 Mar 30 00:23 o\n",
            "drwxr-xr-x  2 root root 28672 Mar 30 00:23 o1\n",
            "drwxr-xr-x  2 root root 36864 Mar 30 00:23 opening\n",
            "drwxr-xr-x  2 root root 32768 Mar 30 00:23 pa\n",
            "drwxr-xr-x  2 root root 36864 Mar 30 00:24 pha\n",
            "drwxr-xr-x  2 root root 36864 Mar 30 00:24 r\n",
            "drwxr-xr-x  2 root root 32768 Mar 30 00:24 r1\n",
            "drwxr-xr-x  2 root root 32768 Mar 30 00:24 ra\n",
            "drwxr-xr-x  2 root root 28672 Mar 30 00:24 sa\n",
            "drwxr-xr-x  2 root root 32768 Mar 30 00:24 sa1\n",
            "drwxr-xr-x  2 root root 36864 Mar 30 00:24 sa2\n",
            "drwxr-xr-x  2 root root 32768 Mar 30 00:24 ta\n",
            "drwxr-xr-x  2 root root 36864 Mar 30 00:24 ta2\n",
            "drwxr-xr-x  2 root root 36864 Mar 30 00:24 tha2\n",
            "drwxr-xr-x  2 root root 36864 Mar 30 00:24 u\n",
            "drwxr-xr-x  2 root root 36864 Mar 30 00:24 u1\n",
            "drwxr-xr-x  2 root root 28672 Mar 30 00:24 virama\n",
            "drwxr-xr-x  2 root root 32768 Mar 30 00:24 wa\n",
            "drwxr-xr-x  2 root root 32768 Mar 30 00:24 ya\n"
          ],
          "name": "stdout"
        }
      ]
    },
    {
      "cell_type": "markdown",
      "metadata": {
        "id": "E62EgblfgaPn"
      },
      "source": [
        "Sekarang, mari kita train model kita menggunakan 10 kali epoch (perulangan)."
      ]
    },
    {
      "cell_type": "code",
      "metadata": {
        "id": "OV_OwOze7Osw",
        "colab": {
          "base_uri": "https://localhost:8080/"
        },
        "outputId": "7ac3797f-7b77-4376-c524-dfc170fdc1c5"
      },
      "source": [
        "model.fit_generator(train_data, steps_per_epoch = 100, epochs = 100, validation_data = test_data, validation_steps = 100)"
      ],
      "execution_count": null,
      "outputs": [
        {
          "output_type": "stream",
          "text": [
            "/usr/local/lib/python3.7/dist-packages/tensorflow/python/keras/engine/training.py:1844: UserWarning: `Model.fit_generator` is deprecated and will be removed in a future version. Please use `Model.fit`, which supports generators.\n",
            "  warnings.warn('`Model.fit_generator` is deprecated and '\n"
          ],
          "name": "stderr"
        },
        {
          "output_type": "stream",
          "text": [
            "Epoch 1/100\n",
            " 99/100 [============================>.] - ETA: 0s - loss: 4.1266 - categorical_accuracy: 0.0233WARNING:tensorflow:Your input ran out of data; interrupting training. Make sure that your dataset or generator can generate at least `steps_per_epoch * epochs` batches (in this case, 100 batches). You may need to use the repeat() function when building your dataset.\n",
            "100/100 [==============================] - 4s 35ms/step - loss: 4.1266 - categorical_accuracy: 0.0233 - val_loss: 4.1252 - val_categorical_accuracy: 0.0213\n",
            "Epoch 2/100\n",
            "100/100 [==============================] - 2s 24ms/step - loss: 4.1248 - categorical_accuracy: 0.0220\n",
            "Epoch 3/100\n",
            "100/100 [==============================] - 2s 23ms/step - loss: 4.1222 - categorical_accuracy: 0.0181\n",
            "Epoch 4/100\n",
            "100/100 [==============================] - 2s 24ms/step - loss: 4.1191 - categorical_accuracy: 0.0141\n",
            "Epoch 5/100\n",
            "100/100 [==============================] - 2s 23ms/step - loss: 4.1157 - categorical_accuracy: 0.0221\n",
            "Epoch 6/100\n",
            "100/100 [==============================] - 2s 24ms/step - loss: 4.1132 - categorical_accuracy: 0.0197\n",
            "Epoch 7/100\n",
            "100/100 [==============================] - 2s 23ms/step - loss: 4.1108 - categorical_accuracy: 0.0203\n",
            "Epoch 8/100\n",
            "100/100 [==============================] - 2s 24ms/step - loss: 4.1034 - categorical_accuracy: 0.0228\n",
            "Epoch 9/100\n",
            "100/100 [==============================] - 2s 24ms/step - loss: 4.0947 - categorical_accuracy: 0.0276\n",
            "Epoch 10/100\n",
            "100/100 [==============================] - 2s 23ms/step - loss: 4.0893 - categorical_accuracy: 0.0324\n",
            "Epoch 11/100\n",
            "100/100 [==============================] - 2s 23ms/step - loss: 4.0593 - categorical_accuracy: 0.0326\n",
            "Epoch 12/100\n",
            "100/100 [==============================] - 2s 23ms/step - loss: 4.0162 - categorical_accuracy: 0.0407\n",
            "Epoch 13/100\n",
            "100/100 [==============================] - 2s 24ms/step - loss: 3.9668 - categorical_accuracy: 0.0524\n",
            "Epoch 14/100\n",
            "100/100 [==============================] - 2s 23ms/step - loss: 3.8842 - categorical_accuracy: 0.0675\n",
            "Epoch 15/100\n",
            "100/100 [==============================] - 2s 23ms/step - loss: 3.7419 - categorical_accuracy: 0.0873\n",
            "Epoch 16/100\n",
            "100/100 [==============================] - 2s 23ms/step - loss: 3.5798 - categorical_accuracy: 0.1116\n",
            "Epoch 17/100\n",
            "100/100 [==============================] - 2s 23ms/step - loss: 3.3606 - categorical_accuracy: 0.1531\n",
            "Epoch 18/100\n",
            "100/100 [==============================] - 2s 23ms/step - loss: 3.0812 - categorical_accuracy: 0.1885\n",
            "Epoch 19/100\n",
            "100/100 [==============================] - 2s 23ms/step - loss: 2.8287 - categorical_accuracy: 0.2387\n",
            "Epoch 20/100\n",
            "100/100 [==============================] - 2s 23ms/step - loss: 2.6330 - categorical_accuracy: 0.2762\n",
            "Epoch 21/100\n",
            "100/100 [==============================] - 2s 23ms/step - loss: 2.4892 - categorical_accuracy: 0.2956\n",
            "Epoch 22/100\n",
            "100/100 [==============================] - 2s 23ms/step - loss: 2.2436 - categorical_accuracy: 0.3518\n",
            "Epoch 23/100\n",
            "100/100 [==============================] - 2s 23ms/step - loss: 2.1288 - categorical_accuracy: 0.3985\n",
            "Epoch 24/100\n",
            "100/100 [==============================] - 2s 23ms/step - loss: 1.9651 - categorical_accuracy: 0.4206\n",
            "Epoch 25/100\n",
            "100/100 [==============================] - 2s 23ms/step - loss: 1.7302 - categorical_accuracy: 0.4712\n",
            "Epoch 26/100\n",
            "100/100 [==============================] - 2s 24ms/step - loss: 1.7026 - categorical_accuracy: 0.5024\n",
            "Epoch 27/100\n",
            "100/100 [==============================] - 2s 23ms/step - loss: 1.6291 - categorical_accuracy: 0.5108\n",
            "Epoch 28/100\n",
            "100/100 [==============================] - 2s 23ms/step - loss: 1.4307 - categorical_accuracy: 0.5716\n",
            "Epoch 29/100\n",
            "100/100 [==============================] - 2s 23ms/step - loss: 1.3903 - categorical_accuracy: 0.5884\n",
            "Epoch 30/100\n",
            "100/100 [==============================] - 2s 23ms/step - loss: 1.2553 - categorical_accuracy: 0.6180\n",
            "Epoch 31/100\n",
            "100/100 [==============================] - 2s 24ms/step - loss: 1.1772 - categorical_accuracy: 0.6307\n",
            "Epoch 32/100\n",
            "100/100 [==============================] - 2s 24ms/step - loss: 1.1630 - categorical_accuracy: 0.6400\n",
            "Epoch 33/100\n",
            "100/100 [==============================] - 2s 23ms/step - loss: 1.1134 - categorical_accuracy: 0.6531\n",
            "Epoch 34/100\n",
            "100/100 [==============================] - 2s 23ms/step - loss: 0.9705 - categorical_accuracy: 0.6982\n",
            "Epoch 35/100\n",
            "100/100 [==============================] - 2s 24ms/step - loss: 0.9589 - categorical_accuracy: 0.6900\n",
            "Epoch 36/100\n",
            "100/100 [==============================] - 2s 23ms/step - loss: 0.9024 - categorical_accuracy: 0.7057\n",
            "Epoch 37/100\n",
            "100/100 [==============================] - 2s 23ms/step - loss: 0.8404 - categorical_accuracy: 0.7235\n",
            "Epoch 38/100\n",
            "100/100 [==============================] - 2s 24ms/step - loss: 0.8250 - categorical_accuracy: 0.7384\n",
            "Epoch 39/100\n",
            "100/100 [==============================] - 2s 24ms/step - loss: 0.7990 - categorical_accuracy: 0.7385\n",
            "Epoch 40/100\n",
            "100/100 [==============================] - 2s 24ms/step - loss: 0.7608 - categorical_accuracy: 0.7446\n",
            "Epoch 41/100\n",
            "100/100 [==============================] - 2s 24ms/step - loss: 0.7918 - categorical_accuracy: 0.7501\n",
            "Epoch 42/100\n",
            "100/100 [==============================] - 2s 24ms/step - loss: 0.7277 - categorical_accuracy: 0.7675\n",
            "Epoch 43/100\n",
            "100/100 [==============================] - 2s 25ms/step - loss: 0.7182 - categorical_accuracy: 0.7675\n",
            "Epoch 44/100\n",
            "100/100 [==============================] - 2s 24ms/step - loss: 0.6618 - categorical_accuracy: 0.7869\n",
            "Epoch 45/100\n",
            "100/100 [==============================] - 3s 25ms/step - loss: 0.6564 - categorical_accuracy: 0.7856\n",
            "Epoch 46/100\n",
            "100/100 [==============================] - 2s 24ms/step - loss: 0.6065 - categorical_accuracy: 0.8047\n",
            "Epoch 47/100\n",
            "100/100 [==============================] - 2s 24ms/step - loss: 1.3955 - categorical_accuracy: 0.6889\n",
            "Epoch 48/100\n",
            "100/100 [==============================] - 2s 24ms/step - loss: 0.5999 - categorical_accuracy: 0.8124\n",
            "Epoch 49/100\n",
            "100/100 [==============================] - 2s 25ms/step - loss: 0.5088 - categorical_accuracy: 0.8414\n",
            "Epoch 50/100\n",
            "100/100 [==============================] - 2s 24ms/step - loss: 0.5266 - categorical_accuracy: 0.8396\n",
            "Epoch 51/100\n",
            "100/100 [==============================] - 2s 25ms/step - loss: 0.5034 - categorical_accuracy: 0.8374\n",
            "Epoch 52/100\n",
            "100/100 [==============================] - 2s 24ms/step - loss: 0.4510 - categorical_accuracy: 0.8436\n",
            "Epoch 53/100\n",
            "100/100 [==============================] - 2s 24ms/step - loss: 0.4361 - categorical_accuracy: 0.8535\n",
            "Epoch 54/100\n",
            "100/100 [==============================] - 2s 24ms/step - loss: 0.4830 - categorical_accuracy: 0.8466\n",
            "Epoch 55/100\n",
            "100/100 [==============================] - 2s 24ms/step - loss: 0.4270 - categorical_accuracy: 0.8531\n",
            "Epoch 56/100\n",
            "100/100 [==============================] - 2s 24ms/step - loss: 0.4906 - categorical_accuracy: 0.8357\n",
            "Epoch 57/100\n",
            "100/100 [==============================] - 2s 24ms/step - loss: 0.4375 - categorical_accuracy: 0.8615\n",
            "Epoch 58/100\n",
            "100/100 [==============================] - 2s 24ms/step - loss: 0.3936 - categorical_accuracy: 0.8827\n",
            "Epoch 59/100\n",
            "100/100 [==============================] - 2s 24ms/step - loss: 0.3832 - categorical_accuracy: 0.8765\n",
            "Epoch 60/100\n",
            "100/100 [==============================] - 2s 25ms/step - loss: 0.4572 - categorical_accuracy: 0.8497\n",
            "Epoch 61/100\n",
            "100/100 [==============================] - 2s 25ms/step - loss: 0.3816 - categorical_accuracy: 0.8827\n",
            "Epoch 62/100\n",
            "100/100 [==============================] - 2s 24ms/step - loss: 0.3560 - categorical_accuracy: 0.8830\n",
            "Epoch 63/100\n",
            "100/100 [==============================] - 2s 25ms/step - loss: 0.3324 - categorical_accuracy: 0.8866\n",
            "Epoch 64/100\n",
            "100/100 [==============================] - 3s 25ms/step - loss: 0.2990 - categorical_accuracy: 0.9087\n",
            "Epoch 65/100\n",
            "100/100 [==============================] - 3s 25ms/step - loss: 0.2738 - categorical_accuracy: 0.9085\n",
            "Epoch 66/100\n",
            "100/100 [==============================] - 2s 24ms/step - loss: 0.3248 - categorical_accuracy: 0.8986\n",
            "Epoch 67/100\n",
            "100/100 [==============================] - 2s 25ms/step - loss: 0.2695 - categorical_accuracy: 0.9200\n",
            "Epoch 68/100\n",
            "100/100 [==============================] - 3s 25ms/step - loss: 0.2823 - categorical_accuracy: 0.9119\n",
            "Epoch 69/100\n",
            "100/100 [==============================] - 2s 25ms/step - loss: 0.2765 - categorical_accuracy: 0.9069\n",
            "Epoch 70/100\n",
            "100/100 [==============================] - 2s 25ms/step - loss: 0.2571 - categorical_accuracy: 0.9231\n",
            "Epoch 71/100\n",
            "100/100 [==============================] - 2s 24ms/step - loss: 0.2483 - categorical_accuracy: 0.9177\n",
            "Epoch 72/100\n",
            "100/100 [==============================] - 2s 24ms/step - loss: 0.2240 - categorical_accuracy: 0.9310\n",
            "Epoch 73/100\n",
            "100/100 [==============================] - 2s 25ms/step - loss: 0.2592 - categorical_accuracy: 0.9191\n",
            "Epoch 74/100\n",
            "100/100 [==============================] - 2s 24ms/step - loss: 0.2358 - categorical_accuracy: 0.9286\n",
            "Epoch 75/100\n",
            "100/100 [==============================] - 2s 24ms/step - loss: 0.2343 - categorical_accuracy: 0.9221\n",
            "Epoch 76/100\n",
            "100/100 [==============================] - 2s 25ms/step - loss: 0.1992 - categorical_accuracy: 0.9363\n",
            "Epoch 77/100\n",
            "100/100 [==============================] - 2s 24ms/step - loss: 0.2244 - categorical_accuracy: 0.9235\n",
            "Epoch 78/100\n",
            "100/100 [==============================] - 2s 24ms/step - loss: 0.2125 - categorical_accuracy: 0.9298\n",
            "Epoch 79/100\n",
            "100/100 [==============================] - 2s 24ms/step - loss: 0.1872 - categorical_accuracy: 0.9412\n",
            "Epoch 80/100\n",
            "100/100 [==============================] - 3s 25ms/step - loss: 0.1860 - categorical_accuracy: 0.9436\n",
            "Epoch 81/100\n",
            "100/100 [==============================] - 2s 25ms/step - loss: 0.2101 - categorical_accuracy: 0.9343\n",
            "Epoch 82/100\n",
            "100/100 [==============================] - 2s 25ms/step - loss: 0.2112 - categorical_accuracy: 0.9348\n",
            "Epoch 83/100\n",
            "100/100 [==============================] - 3s 25ms/step - loss: 0.1617 - categorical_accuracy: 0.9426\n",
            "Epoch 84/100\n",
            "100/100 [==============================] - 3s 25ms/step - loss: 0.2033 - categorical_accuracy: 0.9278\n",
            "Epoch 85/100\n",
            "100/100 [==============================] - 2s 24ms/step - loss: 0.1820 - categorical_accuracy: 0.9454\n",
            "Epoch 86/100\n",
            "100/100 [==============================] - 2s 25ms/step - loss: 0.1905 - categorical_accuracy: 0.9311\n",
            "Epoch 87/100\n",
            "100/100 [==============================] - 2s 25ms/step - loss: 0.1693 - categorical_accuracy: 0.9486\n",
            "Epoch 88/100\n",
            "100/100 [==============================] - 2s 25ms/step - loss: 0.1806 - categorical_accuracy: 0.9437\n",
            "Epoch 89/100\n",
            "100/100 [==============================] - 2s 25ms/step - loss: 0.1760 - categorical_accuracy: 0.9399\n",
            "Epoch 90/100\n",
            "100/100 [==============================] - 2s 25ms/step - loss: 0.1528 - categorical_accuracy: 0.9495\n",
            "Epoch 91/100\n",
            "100/100 [==============================] - 2s 25ms/step - loss: 0.1701 - categorical_accuracy: 0.9429\n",
            "Epoch 92/100\n",
            "100/100 [==============================] - 3s 25ms/step - loss: 0.1900 - categorical_accuracy: 0.9420\n",
            "Epoch 93/100\n",
            "100/100 [==============================] - 3s 25ms/step - loss: 0.1722 - categorical_accuracy: 0.9467\n",
            "Epoch 94/100\n",
            "100/100 [==============================] - 3s 25ms/step - loss: 0.2446 - categorical_accuracy: 0.9225\n",
            "Epoch 95/100\n",
            "100/100 [==============================] - 3s 26ms/step - loss: 0.1657 - categorical_accuracy: 0.9513\n",
            "Epoch 96/100\n",
            "100/100 [==============================] - 3s 25ms/step - loss: 0.1508 - categorical_accuracy: 0.9501\n",
            "Epoch 97/100\n",
            "100/100 [==============================] - 3s 25ms/step - loss: 0.1696 - categorical_accuracy: 0.9539\n",
            "Epoch 98/100\n",
            "100/100 [==============================] - 2s 25ms/step - loss: 0.1584 - categorical_accuracy: 0.9504\n",
            "Epoch 99/100\n",
            "100/100 [==============================] - 2s 25ms/step - loss: 0.1415 - categorical_accuracy: 0.9542\n",
            "Epoch 100/100\n",
            "100/100 [==============================] - 3s 26ms/step - loss: 0.1402 - categorical_accuracy: 0.9539\n"
          ],
          "name": "stdout"
        },
        {
          "output_type": "execute_result",
          "data": {
            "text/plain": [
              "<tensorflow.python.keras.callbacks.History at 0x7fabbb6b0350>"
            ]
          },
          "metadata": {
            "tags": []
          },
          "execution_count": 14
        }
      ]
    },
    {
      "cell_type": "markdown",
      "metadata": {
        "id": "ijrKRUZ-g8p2"
      },
      "source": [
        "Seperti yang bisa dilihat, jika model anda sudah benar, maka seharusnya nilai akurasi akan meningkat perlahan hingga mendekati 1.000 (alias 100%)."
      ]
    },
    {
      "cell_type": "markdown",
      "metadata": {
        "id": "RoboJrIohe0U"
      },
      "source": [
        "## Fase Testing\n",
        "\n",
        "Pada fase ini, mari kita test keakuratan model yang sudah kita buat, apakah dia benar-benar bisa mengenali gambar `5` dan `s` dengan benar. Mari kita ambil 2 contoh file yang akan kita coba test keakuratan modelnya.\n",
        "\n"
      ]
    },
    {
      "cell_type": "code",
      "metadata": {
        "id": "PI9bCedghJc5"
      },
      "source": [
        "satu = \"dataset/test/1/1.jpg\"\n",
        "dua = \"dataset/test/2/2.jpg\"\n",
        "tiga = \"dataset/test/3/3.jpg\""
      ],
      "execution_count": null,
      "outputs": []
    },
    {
      "cell_type": "markdown",
      "metadata": {
        "id": "ihVG0P6XjGxB"
      },
      "source": [
        "Berikut adalah isi kedua gambar yang akan kita test."
      ]
    },
    {
      "cell_type": "code",
      "metadata": {
        "id": "TzLzqhGdif3M",
        "colab": {
          "base_uri": "https://localhost:8080/",
          "height": 446
        },
        "outputId": "9ad15002-85d0-42b6-b915-ee5a349b0833"
      },
      "source": [
        "def tampilkan_(ini):\n",
        "  fig = plt.figure(figsize=(2, 2))\n",
        "  img = plt.imread(ini)\n",
        "  plt.imshow(img)\n",
        "  plt.show()\n",
        "\n",
        "tampilkan_(satu)\n",
        "tampilkan_(dua)\n",
        "tampilkan_(tiga)"
      ],
      "execution_count": null,
      "outputs": [
        {
          "output_type": "display_data",
          "data": {
            "image/png": "[encoded data removed]",
            "text/plain": [
              "<Figure size 144x144 with 1 Axes>"
            ]
          },
          "metadata": {
            "tags": [],
            "needs_background": "light"
          }
        },
        {
          "output_type": "display_data",
          "data": {
            "image/png": "[encoded data removed]",
            "text/plain": [
              "<Figure size 144x144 with 1 Axes>"
            ]
          },
          "metadata": {
            "tags": [],
            "needs_background": "light"
          }
        },
        {
          "output_type": "display_data",
          "data": {
            "image/png": "[encoded data removed]",
            "text/plain": [
              "<Figure size 144x144 with 1 Axes>"
            ]
          },
          "metadata": {
            "tags": [],
            "needs_background": "light"
          }
        }
      ]
    },
    {
      "cell_type": "markdown",
      "metadata": {
        "id": "DghGE9XYjVEw"
      },
      "source": [
        "Karena hasil prediksi dalam bentuk angka, maka kita perlu membangun kamus, yang mana hasil prediksi tadi yang masih berupa angka, ditautkan dengan nama sebenarnya. Berikut adalah teknik membangun kamus tersebut."
      ]
    },
    {
      "cell_type": "code",
      "metadata": {
        "id": "VyuJfXxPjxmw",
        "colab": {
          "base_uri": "https://localhost:8080/"
        },
        "outputId": "59d7322a-e8a3-4b39-8135-8d3b69960ca4"
      },
      "source": [
        "def switch_dict_key_values(this_dict):\n",
        "    return dict((v,k) for k,v in this_dict.items())\n",
        "\n",
        "nama_train_data = switch_dict_key_values(train_data.class_indices)\n",
        "print(nama_train_data)"
      ],
      "execution_count": null,
      "outputs": [
        {
          "output_type": "stream",
          "text": [
            "{0: '0', 1: '1', 2: '2', 3: '3', 4: '4', 5: '5', 6: '6', 7: '7', 8: '8', 9: '9', 10: 'a', 11: 'a1', 12: 'ai', 13: 'au', 14: 'ba', 15: 'bha', 16: 'ca', 17: 'cha', 18: 'da', 19: 'da2', 20: 'dha', 21: 'dot', 22: 'e', 23: 'e1', 24: 'eop', 25: 'eos', 26: 'ga', 27: 'gha', 28: 'ha', 29: 'i', 30: 'i1', 31: 'ja', 32: 'jha', 33: 'ka', 34: 'kha', 35: 'l', 36: 'l1', 37: 'la', 38: 'ma', 39: 'na', 40: 'na2', 41: 'na3', 42: 'na4', 43: 'o', 44: 'o1', 45: 'opening', 46: 'pa', 47: 'pha', 48: 'r', 49: 'r1', 50: 'ra', 51: 'sa', 52: 'sa1', 53: 'sa2', 54: 'ta', 55: 'ta2', 56: 'tha2', 57: 'u', 58: 'u1', 59: 'virama', 60: 'wa', 61: 'ya'}\n"
          ],
          "name": "stdout"
        }
      ]
    },
    {
      "cell_type": "markdown",
      "metadata": {
        "id": "3UeJQUX1j125"
      },
      "source": [
        "Sekarang terlihat bahwa `0` merepresentasikan `5` dan `1` merepresentasikan `s`.\n",
        "\n",
        "Untuk test pertama kita, mari kita coba `5` terlebih dahulu."
      ]
    },
    {
      "cell_type": "code",
      "metadata": {
        "id": "HwGMKQzYkDTf",
        "colab": {
          "base_uri": "https://localhost:8080/"
        },
        "outputId": "6fc6d80d-196c-4d21-dea9-98b39717a9b2"
      },
      "source": [
        "from keras.preprocessing import image\n",
        "import numpy as np\n",
        "\n",
        "img = image.load_img(satu, target_size = (size_, size_))\n",
        "img = image.img_to_array(img)\n",
        "img = np.expand_dims(img, axis = 0)\n",
        "\n",
        "hasil = model.predict_classes(img)\n",
        "#hasil = np.argmax(model.predict(img), axis=-1)\n",
        "print(\"File gambar [\", satu, \"] diprediksi sebagai\", hasil, \"alias terbaca sebagai :: \", nama_train_data[hasil[0]], \".\")"
      ],
      "execution_count": null,
      "outputs": [
        {
          "output_type": "stream",
          "text": [
            "File gambar [ dataset/test/1/1.jpg ] diprediksi sebagai [1] alias terbaca sebagai ::  1 .\n"
          ],
          "name": "stdout"
        },
        {
          "output_type": "stream",
          "text": [
            "/usr/local/lib/python3.7/dist-packages/tensorflow/python/keras/engine/sequential.py:450: UserWarning: `model.predict_classes()` is deprecated and will be removed after 2021-01-01. Please use instead:* `np.argmax(model.predict(x), axis=-1)`,   if your model does multi-class classification   (e.g. if it uses a `softmax` last-layer activation).* `(model.predict(x) > 0.5).astype(\"int32\")`,   if your model does binary classification   (e.g. if it uses a `sigmoid` last-layer activation).\n",
            "  warnings.warn('`model.predict_classes()` is deprecated and '\n"
          ],
          "name": "stderr"
        }
      ]
    },
    {
      "cell_type": "markdown",
      "metadata": {
        "id": "WuS0F5dHlnOS"
      },
      "source": [
        "Untuk test kedua kita, mari kita coba `s` sebagai file testing."
      ]
    },
    {
      "cell_type": "code",
      "metadata": {
        "id": "-2SWc4bqliDp",
        "colab": {
          "base_uri": "https://localhost:8080/"
        },
        "outputId": "6d0e1f74-8914-4d2e-b45e-8b4a9756f144"
      },
      "source": [
        "img = image.load_img(dua, target_size = (size_, size_))\n",
        "img = image.img_to_array(img)\n",
        "img = np.expand_dims(img, axis = 0)\n",
        "\n",
        "hasil = np.argmax(model.predict(img), axis=-1)\n",
        "print(\"File gambar [\", dua, \"] diprediksi sebagai\", hasil, \"alias terbaca sebagai :: \", nama_train_data[hasil[0]], \".\")"
      ],
      "execution_count": null,
      "outputs": [
        {
          "output_type": "stream",
          "text": [
            "File gambar [ dataset/test/2/2.jpg ] diprediksi sebagai [53] alias terbaca sebagai ::  sa2 .\n"
          ],
          "name": "stdout"
        }
      ]
    },
    {
      "cell_type": "code",
      "metadata": {
        "id": "sYlBeV-BsmJc",
        "colab": {
          "base_uri": "https://localhost:8080/"
        },
        "outputId": "d558cc88-780b-4fba-cba2-b8614add3f9e"
      },
      "source": [
        "img = image.load_img(tiga, target_size = (size_, size_))\n",
        "img = image.img_to_array(img)\n",
        "img = np.expand_dims(img, axis = 0)\n",
        "\n",
        "hasil = np.argmax(model.predict(img), axis=-1)\n",
        "print(\"File gambar [\", tiga, \"] diprediksi sebagai\", hasil, \"alias terbaca sebagai :: \", nama_train_data[hasil[0]], \".\")"
      ],
      "execution_count": null,
      "outputs": [
        {
          "output_type": "stream",
          "text": [
            "File gambar [ dataset/test/3/3.jpg ] diprediksi sebagai [3] alias terbaca sebagai ::  3 .\n"
          ],
          "name": "stdout"
        }
      ]
    },
    {
      "cell_type": "code",
      "metadata": {
        "id": "6My13etl_2fF",
        "colab": {
          "base_uri": "https://localhost:8080/"
        },
        "outputId": "87ebbac1-c1fa-46a5-e0f6-c98c04c49bde"
      },
      "source": [
        "lol = glob.glob(\"dataset/test/1/*.jpg\")\n",
        "\n",
        "total = 0\n",
        "for haha in lol:\n",
        "  img = image.load_img(haha, target_size = (16, 16))\n",
        "  img = image.img_to_array(img)\n",
        "  img = np.expand_dims(img, axis = 0)\n",
        "\n",
        "  hasil = model.predict_classes(img)\n",
        "  #print(\"File gambar [s] diprediksi sebagai\", hasil, \"alias terbaca sebagai :: \", nama_train_data[hasil[0][0]], \".\")\n",
        "  total += (1 == hasil[0])*1\n",
        "print(total/len(lol))"
      ],
      "execution_count": null,
      "outputs": [
        {
          "output_type": "stream",
          "text": [
            "/usr/local/lib/python3.7/dist-packages/tensorflow/python/keras/engine/sequential.py:450: UserWarning: `model.predict_classes()` is deprecated and will be removed after 2021-01-01. Please use instead:* `np.argmax(model.predict(x), axis=-1)`,   if your model does multi-class classification   (e.g. if it uses a `softmax` last-layer activation).* `(model.predict(x) > 0.5).astype(\"int32\")`,   if your model does binary classification   (e.g. if it uses a `sigmoid` last-layer activation).\n",
            "  warnings.warn('`model.predict_classes()` is deprecated and '\n"
          ],
          "name": "stderr"
        },
        {
          "output_type": "stream",
          "text": [
            "0.967741935483871\n"
          ],
          "name": "stdout"
        }
      ]
    },
    {
      "cell_type": "code",
      "metadata": {
        "id": "W2z1IT1zueCi",
        "colab": {
          "base_uri": "https://localhost:8080/"
        },
        "outputId": "e321fc7f-0b00-440d-f89d-6c193840b961"
      },
      "source": [
        "lol = glob.glob(\"dataset/test/2/*.jpg\")\n",
        "\n",
        "total = 0\n",
        "for haha in lol:\n",
        "  img = image.load_img(haha, target_size = (16, 16))\n",
        "  img = image.img_to_array(img)\n",
        "  img = np.expand_dims(img, axis = 0)\n",
        "\n",
        "  hasil = model.predict_classes(img)\n",
        "  #print(\"File gambar [s] diprediksi sebagai\", hasil, \"alias terbaca sebagai :: \", nama_train_data[hasil[0][0]], \".\")\n",
        "  total += (2 == hasil[0])*1\n",
        "print(total/len(lol))"
      ],
      "execution_count": null,
      "outputs": [
        {
          "output_type": "stream",
          "text": [
            "/usr/local/lib/python3.7/dist-packages/tensorflow/python/keras/engine/sequential.py:450: UserWarning: `model.predict_classes()` is deprecated and will be removed after 2021-01-01. Please use instead:* `np.argmax(model.predict(x), axis=-1)`,   if your model does multi-class classification   (e.g. if it uses a `softmax` last-layer activation).* `(model.predict(x) > 0.5).astype(\"int32\")`,   if your model does binary classification   (e.g. if it uses a `sigmoid` last-layer activation).\n",
            "  warnings.warn('`model.predict_classes()` is deprecated and '\n"
          ],
          "name": "stderr"
        },
        {
          "output_type": "stream",
          "text": [
            "0.967741935483871\n"
          ],
          "name": "stdout"
        }
      ]
    }
  ]
}